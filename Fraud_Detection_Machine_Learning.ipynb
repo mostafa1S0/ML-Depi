{
  "cells": [
    {
      "cell_type": "markdown",
      "metadata": {
        "id": "view-in-github",
        "colab_type": "text"
      },
      "source": [
        "<a href=\"https://colab.research.google.com/github/mostafa1S0/ML-Depi/blob/main/Fraud_Detection_Machine_Learning.ipynb\" target=\"_parent\"><img src=\"https://colab.research.google.com/assets/colab-badge.svg\" alt=\"Open In Colab\"/></a>"
      ]
    },
    {
      "cell_type": "markdown",
      "id": "2C27ywkylrWe",
      "metadata": {
        "id": "2C27ywkylrWe"
      },
      "source": [
        "# <ul> Data preprocessing"
      ]
    },
    {
      "cell_type": "code",
      "execution_count": null,
      "id": "b0c79f87",
      "metadata": {
        "id": "b0c79f87"
      },
      "outputs": [],
      "source": [
        "#imporatant librabaries\n",
        "import numpy as np\n",
        "import pandas as pd\n",
        "import seaborn as sns\n",
        "import matplotlib.pyplot as plt\n",
        "import warnings\n",
        "warnings.filterwarnings('ignore')"
      ]
    },
    {
      "cell_type": "code",
      "execution_count": null,
      "id": "8e699dfa",
      "metadata": {
        "colab": {
          "base_uri": "https://localhost:8080/",
          "height": 226
        },
        "id": "8e699dfa",
        "outputId": "445c4a46-c823-4989-d620-ec6c2b1a5642",
        "scrolled": true
      },
      "outputs": [
        {
          "output_type": "execute_result",
          "data": {
            "text/plain": [
              "   step      type     amount     nameOrig  oldbalanceOrg  newbalanceOrig  \\\n",
              "0   330   CASH_IN  607193.64   C104196924    15458649.28     16065842.92   \n",
              "1   281   PAYMENT    3473.75  C1283140808           0.00            0.00   \n",
              "2   322  CASH_OUT   66170.69  C1376666142       32803.00            0.00   \n",
              "3   401  TRANSFER  335384.26  C2136161445         197.00            0.00   \n",
              "4   180   CASH_IN  234392.25   C801137003       20882.00       255274.25   \n",
              "\n",
              "      nameDest  oldbalanceDest  newbalanceDest  isFraud  isFlaggedFraud  \n",
              "0  C2020875465      3394537.70      2787344.06        0               0  \n",
              "1  M2044695613            0.00            0.00        0               0  \n",
              "2    C52514926            0.00        66170.69        0               0  \n",
              "3  C2094766437      5311958.61      5647342.87        0               0  \n",
              "4  C1255594470            0.00            0.00        0               0  "
            ],
            "text/html": [
              "\n",
              "  <div id=\"df-68f88b0d-eeb1-447f-920f-d5cf5133740f\" class=\"colab-df-container\">\n",
              "    <div>\n",
              "<style scoped>\n",
              "    .dataframe tbody tr th:only-of-type {\n",
              "        vertical-align: middle;\n",
              "    }\n",
              "\n",
              "    .dataframe tbody tr th {\n",
              "        vertical-align: top;\n",
              "    }\n",
              "\n",
              "    .dataframe thead th {\n",
              "        text-align: right;\n",
              "    }\n",
              "</style>\n",
              "<table border=\"1\" class=\"dataframe\">\n",
              "  <thead>\n",
              "    <tr style=\"text-align: right;\">\n",
              "      <th></th>\n",
              "      <th>step</th>\n",
              "      <th>type</th>\n",
              "      <th>amount</th>\n",
              "      <th>nameOrig</th>\n",
              "      <th>oldbalanceOrg</th>\n",
              "      <th>newbalanceOrig</th>\n",
              "      <th>nameDest</th>\n",
              "      <th>oldbalanceDest</th>\n",
              "      <th>newbalanceDest</th>\n",
              "      <th>isFraud</th>\n",
              "      <th>isFlaggedFraud</th>\n",
              "    </tr>\n",
              "  </thead>\n",
              "  <tbody>\n",
              "    <tr>\n",
              "      <th>0</th>\n",
              "      <td>330</td>\n",
              "      <td>CASH_IN</td>\n",
              "      <td>607193.64</td>\n",
              "      <td>C104196924</td>\n",
              "      <td>15458649.28</td>\n",
              "      <td>16065842.92</td>\n",
              "      <td>C2020875465</td>\n",
              "      <td>3394537.70</td>\n",
              "      <td>2787344.06</td>\n",
              "      <td>0</td>\n",
              "      <td>0</td>\n",
              "    </tr>\n",
              "    <tr>\n",
              "      <th>1</th>\n",
              "      <td>281</td>\n",
              "      <td>PAYMENT</td>\n",
              "      <td>3473.75</td>\n",
              "      <td>C1283140808</td>\n",
              "      <td>0.00</td>\n",
              "      <td>0.00</td>\n",
              "      <td>M2044695613</td>\n",
              "      <td>0.00</td>\n",
              "      <td>0.00</td>\n",
              "      <td>0</td>\n",
              "      <td>0</td>\n",
              "    </tr>\n",
              "    <tr>\n",
              "      <th>2</th>\n",
              "      <td>322</td>\n",
              "      <td>CASH_OUT</td>\n",
              "      <td>66170.69</td>\n",
              "      <td>C1376666142</td>\n",
              "      <td>32803.00</td>\n",
              "      <td>0.00</td>\n",
              "      <td>C52514926</td>\n",
              "      <td>0.00</td>\n",
              "      <td>66170.69</td>\n",
              "      <td>0</td>\n",
              "      <td>0</td>\n",
              "    </tr>\n",
              "    <tr>\n",
              "      <th>3</th>\n",
              "      <td>401</td>\n",
              "      <td>TRANSFER</td>\n",
              "      <td>335384.26</td>\n",
              "      <td>C2136161445</td>\n",
              "      <td>197.00</td>\n",
              "      <td>0.00</td>\n",
              "      <td>C2094766437</td>\n",
              "      <td>5311958.61</td>\n",
              "      <td>5647342.87</td>\n",
              "      <td>0</td>\n",
              "      <td>0</td>\n",
              "    </tr>\n",
              "    <tr>\n",
              "      <th>4</th>\n",
              "      <td>180</td>\n",
              "      <td>CASH_IN</td>\n",
              "      <td>234392.25</td>\n",
              "      <td>C801137003</td>\n",
              "      <td>20882.00</td>\n",
              "      <td>255274.25</td>\n",
              "      <td>C1255594470</td>\n",
              "      <td>0.00</td>\n",
              "      <td>0.00</td>\n",
              "      <td>0</td>\n",
              "      <td>0</td>\n",
              "    </tr>\n",
              "  </tbody>\n",
              "</table>\n",
              "</div>\n",
              "    <div class=\"colab-df-buttons\">\n",
              "\n",
              "  <div class=\"colab-df-container\">\n",
              "    <button class=\"colab-df-convert\" onclick=\"convertToInteractive('df-68f88b0d-eeb1-447f-920f-d5cf5133740f')\"\n",
              "            title=\"Convert this dataframe to an interactive table.\"\n",
              "            style=\"display:none;\">\n",
              "\n",
              "  <svg xmlns=\"http://www.w3.org/2000/svg\" height=\"24px\" viewBox=\"0 -960 960 960\">\n",
              "    <path d=\"M120-120v-720h720v720H120Zm60-500h600v-160H180v160Zm220 220h160v-160H400v160Zm0 220h160v-160H400v160ZM180-400h160v-160H180v160Zm440 0h160v-160H620v160ZM180-180h160v-160H180v160Zm440 0h160v-160H620v160Z\"/>\n",
              "  </svg>\n",
              "    </button>\n",
              "\n",
              "  <style>\n",
              "    .colab-df-container {\n",
              "      display:flex;\n",
              "      gap: 12px;\n",
              "    }\n",
              "\n",
              "    .colab-df-convert {\n",
              "      background-color: #E8F0FE;\n",
              "      border: none;\n",
              "      border-radius: 50%;\n",
              "      cursor: pointer;\n",
              "      display: none;\n",
              "      fill: #1967D2;\n",
              "      height: 32px;\n",
              "      padding: 0 0 0 0;\n",
              "      width: 32px;\n",
              "    }\n",
              "\n",
              "    .colab-df-convert:hover {\n",
              "      background-color: #E2EBFA;\n",
              "      box-shadow: 0px 1px 2px rgba(60, 64, 67, 0.3), 0px 1px 3px 1px rgba(60, 64, 67, 0.15);\n",
              "      fill: #174EA6;\n",
              "    }\n",
              "\n",
              "    .colab-df-buttons div {\n",
              "      margin-bottom: 4px;\n",
              "    }\n",
              "\n",
              "    [theme=dark] .colab-df-convert {\n",
              "      background-color: #3B4455;\n",
              "      fill: #D2E3FC;\n",
              "    }\n",
              "\n",
              "    [theme=dark] .colab-df-convert:hover {\n",
              "      background-color: #434B5C;\n",
              "      box-shadow: 0px 1px 3px 1px rgba(0, 0, 0, 0.15);\n",
              "      filter: drop-shadow(0px 1px 2px rgba(0, 0, 0, 0.3));\n",
              "      fill: #FFFFFF;\n",
              "    }\n",
              "  </style>\n",
              "\n",
              "    <script>\n",
              "      const buttonEl =\n",
              "        document.querySelector('#df-68f88b0d-eeb1-447f-920f-d5cf5133740f button.colab-df-convert');\n",
              "      buttonEl.style.display =\n",
              "        google.colab.kernel.accessAllowed ? 'block' : 'none';\n",
              "\n",
              "      async function convertToInteractive(key) {\n",
              "        const element = document.querySelector('#df-68f88b0d-eeb1-447f-920f-d5cf5133740f');\n",
              "        const dataTable =\n",
              "          await google.colab.kernel.invokeFunction('convertToInteractive',\n",
              "                                                    [key], {});\n",
              "        if (!dataTable) return;\n",
              "\n",
              "        const docLinkHtml = 'Like what you see? Visit the ' +\n",
              "          '<a target=\"_blank\" href=https://colab.research.google.com/notebooks/data_table.ipynb>data table notebook</a>'\n",
              "          + ' to learn more about interactive tables.';\n",
              "        element.innerHTML = '';\n",
              "        dataTable['output_type'] = 'display_data';\n",
              "        await google.colab.output.renderOutput(dataTable, element);\n",
              "        const docLink = document.createElement('div');\n",
              "        docLink.innerHTML = docLinkHtml;\n",
              "        element.appendChild(docLink);\n",
              "      }\n",
              "    </script>\n",
              "  </div>\n",
              "\n",
              "\n",
              "<div id=\"df-fb6d81ca-d1dd-4fb9-8f9a-83dce11a30bd\">\n",
              "  <button class=\"colab-df-quickchart\" onclick=\"quickchart('df-fb6d81ca-d1dd-4fb9-8f9a-83dce11a30bd')\"\n",
              "            title=\"Suggest charts\"\n",
              "            style=\"display:none;\">\n",
              "\n",
              "<svg xmlns=\"http://www.w3.org/2000/svg\" height=\"24px\"viewBox=\"0 0 24 24\"\n",
              "     width=\"24px\">\n",
              "    <g>\n",
              "        <path d=\"M19 3H5c-1.1 0-2 .9-2 2v14c0 1.1.9 2 2 2h14c1.1 0 2-.9 2-2V5c0-1.1-.9-2-2-2zM9 17H7v-7h2v7zm4 0h-2V7h2v10zm4 0h-2v-4h2v4z\"/>\n",
              "    </g>\n",
              "</svg>\n",
              "  </button>\n",
              "\n",
              "<style>\n",
              "  .colab-df-quickchart {\n",
              "      --bg-color: #E8F0FE;\n",
              "      --fill-color: #1967D2;\n",
              "      --hover-bg-color: #E2EBFA;\n",
              "      --hover-fill-color: #174EA6;\n",
              "      --disabled-fill-color: #AAA;\n",
              "      --disabled-bg-color: #DDD;\n",
              "  }\n",
              "\n",
              "  [theme=dark] .colab-df-quickchart {\n",
              "      --bg-color: #3B4455;\n",
              "      --fill-color: #D2E3FC;\n",
              "      --hover-bg-color: #434B5C;\n",
              "      --hover-fill-color: #FFFFFF;\n",
              "      --disabled-bg-color: #3B4455;\n",
              "      --disabled-fill-color: #666;\n",
              "  }\n",
              "\n",
              "  .colab-df-quickchart {\n",
              "    background-color: var(--bg-color);\n",
              "    border: none;\n",
              "    border-radius: 50%;\n",
              "    cursor: pointer;\n",
              "    display: none;\n",
              "    fill: var(--fill-color);\n",
              "    height: 32px;\n",
              "    padding: 0;\n",
              "    width: 32px;\n",
              "  }\n",
              "\n",
              "  .colab-df-quickchart:hover {\n",
              "    background-color: var(--hover-bg-color);\n",
              "    box-shadow: 0 1px 2px rgba(60, 64, 67, 0.3), 0 1px 3px 1px rgba(60, 64, 67, 0.15);\n",
              "    fill: var(--button-hover-fill-color);\n",
              "  }\n",
              "\n",
              "  .colab-df-quickchart-complete:disabled,\n",
              "  .colab-df-quickchart-complete:disabled:hover {\n",
              "    background-color: var(--disabled-bg-color);\n",
              "    fill: var(--disabled-fill-color);\n",
              "    box-shadow: none;\n",
              "  }\n",
              "\n",
              "  .colab-df-spinner {\n",
              "    border: 2px solid var(--fill-color);\n",
              "    border-color: transparent;\n",
              "    border-bottom-color: var(--fill-color);\n",
              "    animation:\n",
              "      spin 1s steps(1) infinite;\n",
              "  }\n",
              "\n",
              "  @keyframes spin {\n",
              "    0% {\n",
              "      border-color: transparent;\n",
              "      border-bottom-color: var(--fill-color);\n",
              "      border-left-color: var(--fill-color);\n",
              "    }\n",
              "    20% {\n",
              "      border-color: transparent;\n",
              "      border-left-color: var(--fill-color);\n",
              "      border-top-color: var(--fill-color);\n",
              "    }\n",
              "    30% {\n",
              "      border-color: transparent;\n",
              "      border-left-color: var(--fill-color);\n",
              "      border-top-color: var(--fill-color);\n",
              "      border-right-color: var(--fill-color);\n",
              "    }\n",
              "    40% {\n",
              "      border-color: transparent;\n",
              "      border-right-color: var(--fill-color);\n",
              "      border-top-color: var(--fill-color);\n",
              "    }\n",
              "    60% {\n",
              "      border-color: transparent;\n",
              "      border-right-color: var(--fill-color);\n",
              "    }\n",
              "    80% {\n",
              "      border-color: transparent;\n",
              "      border-right-color: var(--fill-color);\n",
              "      border-bottom-color: var(--fill-color);\n",
              "    }\n",
              "    90% {\n",
              "      border-color: transparent;\n",
              "      border-bottom-color: var(--fill-color);\n",
              "    }\n",
              "  }\n",
              "</style>\n",
              "\n",
              "  <script>\n",
              "    async function quickchart(key) {\n",
              "      const quickchartButtonEl =\n",
              "        document.querySelector('#' + key + ' button');\n",
              "      quickchartButtonEl.disabled = true;  // To prevent multiple clicks.\n",
              "      quickchartButtonEl.classList.add('colab-df-spinner');\n",
              "      try {\n",
              "        const charts = await google.colab.kernel.invokeFunction(\n",
              "            'suggestCharts', [key], {});\n",
              "      } catch (error) {\n",
              "        console.error('Error during call to suggestCharts:', error);\n",
              "      }\n",
              "      quickchartButtonEl.classList.remove('colab-df-spinner');\n",
              "      quickchartButtonEl.classList.add('colab-df-quickchart-complete');\n",
              "    }\n",
              "    (() => {\n",
              "      let quickchartButtonEl =\n",
              "        document.querySelector('#df-fb6d81ca-d1dd-4fb9-8f9a-83dce11a30bd button');\n",
              "      quickchartButtonEl.style.display =\n",
              "        google.colab.kernel.accessAllowed ? 'block' : 'none';\n",
              "    })();\n",
              "  </script>\n",
              "</div>\n",
              "\n",
              "    </div>\n",
              "  </div>\n"
            ],
            "application/vnd.google.colaboratory.intrinsic+json": {
              "type": "dataframe",
              "variable_name": "df"
            }
          },
          "metadata": {},
          "execution_count": 2
        }
      ],
      "source": [
        "# READ THE DATA and DISPLAY THE HEAD\n",
        "df=pd.read_csv(\"Fraud.csv\")\n",
        "df.head(5)"
      ]
    },
    {
      "cell_type": "code",
      "execution_count": null,
      "id": "dbc80b78",
      "metadata": {
        "colab": {
          "base_uri": "https://localhost:8080/",
          "height": 429
        },
        "id": "dbc80b78",
        "outputId": "93ea42de-0247-498a-f0db-16dfe254dadf"
      },
      "outputs": [
        {
          "output_type": "execute_result",
          "data": {
            "text/plain": [
              "step              0\n",
              "type              0\n",
              "amount            0\n",
              "nameOrig          0\n",
              "oldbalanceOrg     0\n",
              "newbalanceOrig    0\n",
              "nameDest          0\n",
              "oldbalanceDest    0\n",
              "newbalanceDest    0\n",
              "isFraud           0\n",
              "isFlaggedFraud    0\n",
              "dtype: int64"
            ],
            "text/html": [
              "<div>\n",
              "<style scoped>\n",
              "    .dataframe tbody tr th:only-of-type {\n",
              "        vertical-align: middle;\n",
              "    }\n",
              "\n",
              "    .dataframe tbody tr th {\n",
              "        vertical-align: top;\n",
              "    }\n",
              "\n",
              "    .dataframe thead th {\n",
              "        text-align: right;\n",
              "    }\n",
              "</style>\n",
              "<table border=\"1\" class=\"dataframe\">\n",
              "  <thead>\n",
              "    <tr style=\"text-align: right;\">\n",
              "      <th></th>\n",
              "      <th>0</th>\n",
              "    </tr>\n",
              "  </thead>\n",
              "  <tbody>\n",
              "    <tr>\n",
              "      <th>step</th>\n",
              "      <td>0</td>\n",
              "    </tr>\n",
              "    <tr>\n",
              "      <th>type</th>\n",
              "      <td>0</td>\n",
              "    </tr>\n",
              "    <tr>\n",
              "      <th>amount</th>\n",
              "      <td>0</td>\n",
              "    </tr>\n",
              "    <tr>\n",
              "      <th>nameOrig</th>\n",
              "      <td>0</td>\n",
              "    </tr>\n",
              "    <tr>\n",
              "      <th>oldbalanceOrg</th>\n",
              "      <td>0</td>\n",
              "    </tr>\n",
              "    <tr>\n",
              "      <th>newbalanceOrig</th>\n",
              "      <td>0</td>\n",
              "    </tr>\n",
              "    <tr>\n",
              "      <th>nameDest</th>\n",
              "      <td>0</td>\n",
              "    </tr>\n",
              "    <tr>\n",
              "      <th>oldbalanceDest</th>\n",
              "      <td>0</td>\n",
              "    </tr>\n",
              "    <tr>\n",
              "      <th>newbalanceDest</th>\n",
              "      <td>0</td>\n",
              "    </tr>\n",
              "    <tr>\n",
              "      <th>isFraud</th>\n",
              "      <td>0</td>\n",
              "    </tr>\n",
              "    <tr>\n",
              "      <th>isFlaggedFraud</th>\n",
              "      <td>0</td>\n",
              "    </tr>\n",
              "  </tbody>\n",
              "</table>\n",
              "</div><br><label><b>dtype:</b> int64</label>"
            ]
          },
          "metadata": {},
          "execution_count": 3
        }
      ],
      "source": [
        "# Count Null values\n",
        "df.isnull().sum()"
      ]
    },
    {
      "cell_type": "code",
      "execution_count": null,
      "id": "65b19bae",
      "metadata": {
        "colab": {
          "base_uri": "https://localhost:8080/"
        },
        "id": "65b19bae",
        "outputId": "39a47845-cd83-4a37-ac4a-4277395120a3"
      },
      "outputs": [
        {
          "output_type": "stream",
          "name": "stdout",
          "text": [
            "<class 'pandas.core.frame.DataFrame'>\n",
            "RangeIndex: 600000 entries, 0 to 599999\n",
            "Data columns (total 11 columns):\n",
            " #   Column          Non-Null Count   Dtype  \n",
            "---  ------          --------------   -----  \n",
            " 0   step            600000 non-null  int64  \n",
            " 1   type            600000 non-null  object \n",
            " 2   amount          600000 non-null  float64\n",
            " 3   nameOrig        600000 non-null  object \n",
            " 4   oldbalanceOrg   600000 non-null  float64\n",
            " 5   newbalanceOrig  600000 non-null  float64\n",
            " 6   nameDest        600000 non-null  object \n",
            " 7   oldbalanceDest  600000 non-null  float64\n",
            " 8   newbalanceDest  600000 non-null  float64\n",
            " 9   isFraud         600000 non-null  int64  \n",
            " 10  isFlaggedFraud  600000 non-null  int64  \n",
            "dtypes: float64(5), int64(3), object(3)\n",
            "memory usage: 50.4+ MB\n"
          ]
        }
      ],
      "source": [
        "df.info()"
      ]
    },
    {
      "cell_type": "code",
      "execution_count": null,
      "id": "686801a5",
      "metadata": {
        "colab": {
          "base_uri": "https://localhost:8080/"
        },
        "id": "686801a5",
        "outputId": "83283385-b52c-46fe-991b-222da1ec489e"
      },
      "outputs": [
        {
          "output_type": "execute_result",
          "data": {
            "text/plain": [
              "0"
            ]
          },
          "metadata": {},
          "execution_count": 6
        }
      ],
      "source": [
        "#count duplicated values\n",
        "df.duplicated().sum()"
      ]
    },
    {
      "cell_type": "markdown",
      "source": [
        "Exploratory Data Analysis ( EDA )"
      ],
      "metadata": {
        "id": "vy5A5owHds6P"
      },
      "id": "vy5A5owHds6P"
    },
    {
      "cell_type": "code",
      "execution_count": null,
      "id": "723efbb0",
      "metadata": {
        "colab": {
          "base_uri": "https://localhost:8080/",
          "height": 300
        },
        "id": "723efbb0",
        "outputId": "4b0c6f13-087e-4fa1-ef26-580129d9284e"
      },
      "outputs": [
        {
          "output_type": "execute_result",
          "data": {
            "text/plain": [
              "                   count          mean           std  min        25%  \\\n",
              "step            600000.0  2.432444e+02  1.422543e+02  1.0    155.000   \n",
              "amount          600000.0  1.788921e+05  6.014761e+05  0.0  13376.455   \n",
              "oldbalanceOrg   600000.0  8.317255e+05  2.880579e+06  0.0      0.000   \n",
              "newbalanceOrig  600000.0  8.529301e+05  2.916282e+06  0.0      0.000   \n",
              "oldbalanceDest  600000.0  1.096497e+06  3.350257e+06  0.0      0.000   \n",
              "newbalanceDest  600000.0  1.219499e+06  3.613941e+06  0.0      0.000   \n",
              "isFraud         600000.0  1.293333e-03  3.593971e-02  0.0      0.000   \n",
              "isFlaggedFraud  600000.0  0.000000e+00  0.000000e+00  0.0      0.000   \n",
              "\n",
              "                       50%           75%           max  \n",
              "step               239.000  3.350000e+02  7.430000e+02  \n",
              "amount           74725.020  2.086067e+05  9.244552e+07  \n",
              "oldbalanceOrg    14237.100  1.075690e+05  5.039905e+07  \n",
              "newbalanceOrig       0.000  1.450344e+05  4.367380e+07  \n",
              "oldbalanceDest  130380.745  9.386330e+05  2.511150e+08  \n",
              "newbalanceDest  212938.505  1.108755e+06  2.506381e+08  \n",
              "isFraud              0.000  0.000000e+00  1.000000e+00  \n",
              "isFlaggedFraud       0.000  0.000000e+00  0.000000e+00  "
            ],
            "text/html": [
              "\n",
              "  <div id=\"df-9a9b4930-66ea-4e87-b172-4e7ad1dad9b7\" class=\"colab-df-container\">\n",
              "    <div>\n",
              "<style scoped>\n",
              "    .dataframe tbody tr th:only-of-type {\n",
              "        vertical-align: middle;\n",
              "    }\n",
              "\n",
              "    .dataframe tbody tr th {\n",
              "        vertical-align: top;\n",
              "    }\n",
              "\n",
              "    .dataframe thead th {\n",
              "        text-align: right;\n",
              "    }\n",
              "</style>\n",
              "<table border=\"1\" class=\"dataframe\">\n",
              "  <thead>\n",
              "    <tr style=\"text-align: right;\">\n",
              "      <th></th>\n",
              "      <th>count</th>\n",
              "      <th>mean</th>\n",
              "      <th>std</th>\n",
              "      <th>min</th>\n",
              "      <th>25%</th>\n",
              "      <th>50%</th>\n",
              "      <th>75%</th>\n",
              "      <th>max</th>\n",
              "    </tr>\n",
              "  </thead>\n",
              "  <tbody>\n",
              "    <tr>\n",
              "      <th>step</th>\n",
              "      <td>600000.0</td>\n",
              "      <td>2.432444e+02</td>\n",
              "      <td>1.422543e+02</td>\n",
              "      <td>1.0</td>\n",
              "      <td>155.000</td>\n",
              "      <td>239.000</td>\n",
              "      <td>3.350000e+02</td>\n",
              "      <td>7.430000e+02</td>\n",
              "    </tr>\n",
              "    <tr>\n",
              "      <th>amount</th>\n",
              "      <td>600000.0</td>\n",
              "      <td>1.788921e+05</td>\n",
              "      <td>6.014761e+05</td>\n",
              "      <td>0.0</td>\n",
              "      <td>13376.455</td>\n",
              "      <td>74725.020</td>\n",
              "      <td>2.086067e+05</td>\n",
              "      <td>9.244552e+07</td>\n",
              "    </tr>\n",
              "    <tr>\n",
              "      <th>oldbalanceOrg</th>\n",
              "      <td>600000.0</td>\n",
              "      <td>8.317255e+05</td>\n",
              "      <td>2.880579e+06</td>\n",
              "      <td>0.0</td>\n",
              "      <td>0.000</td>\n",
              "      <td>14237.100</td>\n",
              "      <td>1.075690e+05</td>\n",
              "      <td>5.039905e+07</td>\n",
              "    </tr>\n",
              "    <tr>\n",
              "      <th>newbalanceOrig</th>\n",
              "      <td>600000.0</td>\n",
              "      <td>8.529301e+05</td>\n",
              "      <td>2.916282e+06</td>\n",
              "      <td>0.0</td>\n",
              "      <td>0.000</td>\n",
              "      <td>0.000</td>\n",
              "      <td>1.450344e+05</td>\n",
              "      <td>4.367380e+07</td>\n",
              "    </tr>\n",
              "    <tr>\n",
              "      <th>oldbalanceDest</th>\n",
              "      <td>600000.0</td>\n",
              "      <td>1.096497e+06</td>\n",
              "      <td>3.350257e+06</td>\n",
              "      <td>0.0</td>\n",
              "      <td>0.000</td>\n",
              "      <td>130380.745</td>\n",
              "      <td>9.386330e+05</td>\n",
              "      <td>2.511150e+08</td>\n",
              "    </tr>\n",
              "    <tr>\n",
              "      <th>newbalanceDest</th>\n",
              "      <td>600000.0</td>\n",
              "      <td>1.219499e+06</td>\n",
              "      <td>3.613941e+06</td>\n",
              "      <td>0.0</td>\n",
              "      <td>0.000</td>\n",
              "      <td>212938.505</td>\n",
              "      <td>1.108755e+06</td>\n",
              "      <td>2.506381e+08</td>\n",
              "    </tr>\n",
              "    <tr>\n",
              "      <th>isFraud</th>\n",
              "      <td>600000.0</td>\n",
              "      <td>1.293333e-03</td>\n",
              "      <td>3.593971e-02</td>\n",
              "      <td>0.0</td>\n",
              "      <td>0.000</td>\n",
              "      <td>0.000</td>\n",
              "      <td>0.000000e+00</td>\n",
              "      <td>1.000000e+00</td>\n",
              "    </tr>\n",
              "    <tr>\n",
              "      <th>isFlaggedFraud</th>\n",
              "      <td>600000.0</td>\n",
              "      <td>0.000000e+00</td>\n",
              "      <td>0.000000e+00</td>\n",
              "      <td>0.0</td>\n",
              "      <td>0.000</td>\n",
              "      <td>0.000</td>\n",
              "      <td>0.000000e+00</td>\n",
              "      <td>0.000000e+00</td>\n",
              "    </tr>\n",
              "  </tbody>\n",
              "</table>\n",
              "</div>\n",
              "    <div class=\"colab-df-buttons\">\n",
              "\n",
              "  <div class=\"colab-df-container\">\n",
              "    <button class=\"colab-df-convert\" onclick=\"convertToInteractive('df-9a9b4930-66ea-4e87-b172-4e7ad1dad9b7')\"\n",
              "            title=\"Convert this dataframe to an interactive table.\"\n",
              "            style=\"display:none;\">\n",
              "\n",
              "  <svg xmlns=\"http://www.w3.org/2000/svg\" height=\"24px\" viewBox=\"0 -960 960 960\">\n",
              "    <path d=\"M120-120v-720h720v720H120Zm60-500h600v-160H180v160Zm220 220h160v-160H400v160Zm0 220h160v-160H400v160ZM180-400h160v-160H180v160Zm440 0h160v-160H620v160ZM180-180h160v-160H180v160Zm440 0h160v-160H620v160Z\"/>\n",
              "  </svg>\n",
              "    </button>\n",
              "\n",
              "  <style>\n",
              "    .colab-df-container {\n",
              "      display:flex;\n",
              "      gap: 12px;\n",
              "    }\n",
              "\n",
              "    .colab-df-convert {\n",
              "      background-color: #E8F0FE;\n",
              "      border: none;\n",
              "      border-radius: 50%;\n",
              "      cursor: pointer;\n",
              "      display: none;\n",
              "      fill: #1967D2;\n",
              "      height: 32px;\n",
              "      padding: 0 0 0 0;\n",
              "      width: 32px;\n",
              "    }\n",
              "\n",
              "    .colab-df-convert:hover {\n",
              "      background-color: #E2EBFA;\n",
              "      box-shadow: 0px 1px 2px rgba(60, 64, 67, 0.3), 0px 1px 3px 1px rgba(60, 64, 67, 0.15);\n",
              "      fill: #174EA6;\n",
              "    }\n",
              "\n",
              "    .colab-df-buttons div {\n",
              "      margin-bottom: 4px;\n",
              "    }\n",
              "\n",
              "    [theme=dark] .colab-df-convert {\n",
              "      background-color: #3B4455;\n",
              "      fill: #D2E3FC;\n",
              "    }\n",
              "\n",
              "    [theme=dark] .colab-df-convert:hover {\n",
              "      background-color: #434B5C;\n",
              "      box-shadow: 0px 1px 3px 1px rgba(0, 0, 0, 0.15);\n",
              "      filter: drop-shadow(0px 1px 2px rgba(0, 0, 0, 0.3));\n",
              "      fill: #FFFFFF;\n",
              "    }\n",
              "  </style>\n",
              "\n",
              "    <script>\n",
              "      const buttonEl =\n",
              "        document.querySelector('#df-9a9b4930-66ea-4e87-b172-4e7ad1dad9b7 button.colab-df-convert');\n",
              "      buttonEl.style.display =\n",
              "        google.colab.kernel.accessAllowed ? 'block' : 'none';\n",
              "\n",
              "      async function convertToInteractive(key) {\n",
              "        const element = document.querySelector('#df-9a9b4930-66ea-4e87-b172-4e7ad1dad9b7');\n",
              "        const dataTable =\n",
              "          await google.colab.kernel.invokeFunction('convertToInteractive',\n",
              "                                                    [key], {});\n",
              "        if (!dataTable) return;\n",
              "\n",
              "        const docLinkHtml = 'Like what you see? Visit the ' +\n",
              "          '<a target=\"_blank\" href=https://colab.research.google.com/notebooks/data_table.ipynb>data table notebook</a>'\n",
              "          + ' to learn more about interactive tables.';\n",
              "        element.innerHTML = '';\n",
              "        dataTable['output_type'] = 'display_data';\n",
              "        await google.colab.output.renderOutput(dataTable, element);\n",
              "        const docLink = document.createElement('div');\n",
              "        docLink.innerHTML = docLinkHtml;\n",
              "        element.appendChild(docLink);\n",
              "      }\n",
              "    </script>\n",
              "  </div>\n",
              "\n",
              "\n",
              "<div id=\"df-a7148fb2-6efe-40a8-a62c-157a0fe812a2\">\n",
              "  <button class=\"colab-df-quickchart\" onclick=\"quickchart('df-a7148fb2-6efe-40a8-a62c-157a0fe812a2')\"\n",
              "            title=\"Suggest charts\"\n",
              "            style=\"display:none;\">\n",
              "\n",
              "<svg xmlns=\"http://www.w3.org/2000/svg\" height=\"24px\"viewBox=\"0 0 24 24\"\n",
              "     width=\"24px\">\n",
              "    <g>\n",
              "        <path d=\"M19 3H5c-1.1 0-2 .9-2 2v14c0 1.1.9 2 2 2h14c1.1 0 2-.9 2-2V5c0-1.1-.9-2-2-2zM9 17H7v-7h2v7zm4 0h-2V7h2v10zm4 0h-2v-4h2v4z\"/>\n",
              "    </g>\n",
              "</svg>\n",
              "  </button>\n",
              "\n",
              "<style>\n",
              "  .colab-df-quickchart {\n",
              "      --bg-color: #E8F0FE;\n",
              "      --fill-color: #1967D2;\n",
              "      --hover-bg-color: #E2EBFA;\n",
              "      --hover-fill-color: #174EA6;\n",
              "      --disabled-fill-color: #AAA;\n",
              "      --disabled-bg-color: #DDD;\n",
              "  }\n",
              "\n",
              "  [theme=dark] .colab-df-quickchart {\n",
              "      --bg-color: #3B4455;\n",
              "      --fill-color: #D2E3FC;\n",
              "      --hover-bg-color: #434B5C;\n",
              "      --hover-fill-color: #FFFFFF;\n",
              "      --disabled-bg-color: #3B4455;\n",
              "      --disabled-fill-color: #666;\n",
              "  }\n",
              "\n",
              "  .colab-df-quickchart {\n",
              "    background-color: var(--bg-color);\n",
              "    border: none;\n",
              "    border-radius: 50%;\n",
              "    cursor: pointer;\n",
              "    display: none;\n",
              "    fill: var(--fill-color);\n",
              "    height: 32px;\n",
              "    padding: 0;\n",
              "    width: 32px;\n",
              "  }\n",
              "\n",
              "  .colab-df-quickchart:hover {\n",
              "    background-color: var(--hover-bg-color);\n",
              "    box-shadow: 0 1px 2px rgba(60, 64, 67, 0.3), 0 1px 3px 1px rgba(60, 64, 67, 0.15);\n",
              "    fill: var(--button-hover-fill-color);\n",
              "  }\n",
              "\n",
              "  .colab-df-quickchart-complete:disabled,\n",
              "  .colab-df-quickchart-complete:disabled:hover {\n",
              "    background-color: var(--disabled-bg-color);\n",
              "    fill: var(--disabled-fill-color);\n",
              "    box-shadow: none;\n",
              "  }\n",
              "\n",
              "  .colab-df-spinner {\n",
              "    border: 2px solid var(--fill-color);\n",
              "    border-color: transparent;\n",
              "    border-bottom-color: var(--fill-color);\n",
              "    animation:\n",
              "      spin 1s steps(1) infinite;\n",
              "  }\n",
              "\n",
              "  @keyframes spin {\n",
              "    0% {\n",
              "      border-color: transparent;\n",
              "      border-bottom-color: var(--fill-color);\n",
              "      border-left-color: var(--fill-color);\n",
              "    }\n",
              "    20% {\n",
              "      border-color: transparent;\n",
              "      border-left-color: var(--fill-color);\n",
              "      border-top-color: var(--fill-color);\n",
              "    }\n",
              "    30% {\n",
              "      border-color: transparent;\n",
              "      border-left-color: var(--fill-color);\n",
              "      border-top-color: var(--fill-color);\n",
              "      border-right-color: var(--fill-color);\n",
              "    }\n",
              "    40% {\n",
              "      border-color: transparent;\n",
              "      border-right-color: var(--fill-color);\n",
              "      border-top-color: var(--fill-color);\n",
              "    }\n",
              "    60% {\n",
              "      border-color: transparent;\n",
              "      border-right-color: var(--fill-color);\n",
              "    }\n",
              "    80% {\n",
              "      border-color: transparent;\n",
              "      border-right-color: var(--fill-color);\n",
              "      border-bottom-color: var(--fill-color);\n",
              "    }\n",
              "    90% {\n",
              "      border-color: transparent;\n",
              "      border-bottom-color: var(--fill-color);\n",
              "    }\n",
              "  }\n",
              "</style>\n",
              "\n",
              "  <script>\n",
              "    async function quickchart(key) {\n",
              "      const quickchartButtonEl =\n",
              "        document.querySelector('#' + key + ' button');\n",
              "      quickchartButtonEl.disabled = true;  // To prevent multiple clicks.\n",
              "      quickchartButtonEl.classList.add('colab-df-spinner');\n",
              "      try {\n",
              "        const charts = await google.colab.kernel.invokeFunction(\n",
              "            'suggestCharts', [key], {});\n",
              "      } catch (error) {\n",
              "        console.error('Error during call to suggestCharts:', error);\n",
              "      }\n",
              "      quickchartButtonEl.classList.remove('colab-df-spinner');\n",
              "      quickchartButtonEl.classList.add('colab-df-quickchart-complete');\n",
              "    }\n",
              "    (() => {\n",
              "      let quickchartButtonEl =\n",
              "        document.querySelector('#df-a7148fb2-6efe-40a8-a62c-157a0fe812a2 button');\n",
              "      quickchartButtonEl.style.display =\n",
              "        google.colab.kernel.accessAllowed ? 'block' : 'none';\n",
              "    })();\n",
              "  </script>\n",
              "</div>\n",
              "\n",
              "    </div>\n",
              "  </div>\n"
            ],
            "application/vnd.google.colaboratory.intrinsic+json": {
              "type": "dataframe",
              "summary": "{\n  \"name\": \"df\",\n  \"rows\": 8,\n  \"fields\": [\n    {\n      \"column\": \"count\",\n      \"properties\": {\n        \"dtype\": \"number\",\n        \"std\": 0.0,\n        \"min\": 600000.0,\n        \"max\": 600000.0,\n        \"num_unique_values\": 1,\n        \"samples\": [\n          600000.0\n        ],\n        \"semantic_type\": \"\",\n        \"description\": \"\"\n      }\n    },\n    {\n      \"column\": \"mean\",\n      \"properties\": {\n        \"dtype\": \"number\",\n        \"std\": 528733.716990443,\n        \"min\": 0.0,\n        \"max\": 1219499.14587895,\n        \"num_unique_values\": 8,\n        \"samples\": [\n          178892.12247266676\n        ],\n        \"semantic_type\": \"\",\n        \"description\": \"\"\n      }\n    },\n    {\n      \"column\": \"std\",\n      \"properties\": {\n        \"dtype\": \"number\",\n        \"std\": 1653086.303038254,\n        \"min\": 0.0,\n        \"max\": 3613941.2233790797,\n        \"num_unique_values\": 8,\n        \"samples\": [\n          601476.1287900112\n        ],\n        \"semantic_type\": \"\",\n        \"description\": \"\"\n      }\n    },\n    {\n      \"column\": \"min\",\n      \"properties\": {\n        \"dtype\": \"number\",\n        \"std\": 0.3535533905932738,\n        \"min\": 0.0,\n        \"max\": 1.0,\n        \"num_unique_values\": 2,\n        \"samples\": [\n          0.0\n        ],\n        \"semantic_type\": \"\",\n        \"description\": \"\"\n      }\n    },\n    {\n      \"column\": \"25%\",\n      \"properties\": {\n        \"dtype\": \"number\",\n        \"std\": 4721.773865597801,\n        \"min\": 0.0,\n        \"max\": 13376.455,\n        \"num_unique_values\": 3,\n        \"samples\": [\n          155.0\n        ],\n        \"semantic_type\": \"\",\n        \"description\": \"\"\n      }\n    },\n    {\n      \"column\": \"50%\",\n      \"properties\": {\n        \"dtype\": \"number\",\n        \"std\": 79950.24570826475,\n        \"min\": 0.0,\n        \"max\": 212938.505,\n        \"num_unique_values\": 6,\n        \"samples\": [\n          239.0\n        ],\n        \"semantic_type\": \"\",\n        \"description\": \"\"\n      }\n    },\n    {\n      \"column\": \"75%\",\n      \"properties\": {\n        \"dtype\": \"number\",\n        \"std\": 447157.6183650176,\n        \"min\": 0.0,\n        \"max\": 1108755.1225,\n        \"num_unique_values\": 7,\n        \"samples\": [\n          335.0\n        ],\n        \"semantic_type\": \"\",\n        \"description\": \"\"\n      }\n    },\n    {\n      \"column\": \"max\",\n      \"properties\": {\n        \"dtype\": \"number\",\n        \"std\": 106675079.65851259,\n        \"min\": 0.0,\n        \"max\": 251114960.8,\n        \"num_unique_values\": 8,\n        \"samples\": [\n          92445516.64\n        ],\n        \"semantic_type\": \"\",\n        \"description\": \"\"\n      }\n    }\n  ]\n}"
            }
          },
          "metadata": {},
          "execution_count": 7
        }
      ],
      "source": [
        "#get a transposed statistical summary of a Data\n",
        "df.describe().T"
      ]
    },
    {
      "cell_type": "code",
      "execution_count": null,
      "id": "3f3f4d6d",
      "metadata": {
        "colab": {
          "base_uri": "https://localhost:8080/"
        },
        "id": "3f3f4d6d",
        "outputId": "6fdfd0f4-e43b-4e5e-b86b-5360326ab756"
      },
      "outputs": [
        {
          "output_type": "stream",
          "name": "stdout",
          "text": [
            "type\n",
            "CASH_OUT    210964\n",
            "PAYMENT     203351\n",
            "CASH_IN     131682\n",
            "TRANSFER     50073\n",
            "DEBIT         3930\n",
            "Name: count, dtype: int64\n",
            "################################################################################\n",
            "nameOrig\n",
            "C1007679575    2\n",
            "C94830298      2\n",
            "C393154607     2\n",
            "C1766564396    2\n",
            "C856167167     2\n",
            "              ..\n",
            "C589919225     1\n",
            "C755654049     1\n",
            "C1864440384    1\n",
            "C747647713     1\n",
            "C266807496     1\n",
            "Name: count, Length: 599917, dtype: int64\n",
            "################################################################################\n",
            "nameDest\n",
            "C667346055     14\n",
            "C20671747      14\n",
            "C1147977782    14\n",
            "C453211571     14\n",
            "C2008647667    14\n",
            "               ..\n",
            "M1765304092     1\n",
            "C793647997      1\n",
            "M225552548      1\n",
            "C443445598      1\n",
            "M517611325      1\n",
            "Name: count, Length: 437160, dtype: int64\n",
            "################################################################################\n"
          ]
        }
      ],
      "source": [
        "# categorical feature analysis\n",
        "for i in df.select_dtypes(include=\"object\").columns:\n",
        "    print(df[i].value_counts())\n",
        "    print('########'*10)"
      ]
    },
    {
      "cell_type": "code",
      "execution_count": null,
      "id": "ce84dd4c",
      "metadata": {
        "colab": {
          "base_uri": "https://localhost:8080/",
          "height": 175
        },
        "id": "ce84dd4c",
        "outputId": "a0a0e3c1-9f1b-4e89-8c09-b0a3738701ac",
        "scrolled": true
      },
      "outputs": [
        {
          "output_type": "execute_result",
          "data": {
            "text/plain": [
              "            type     nameOrig    nameDest\n",
              "count     600000       600000      600000\n",
              "unique         5       599917      437160\n",
              "top     CASH_OUT  C1007679575  C667346055\n",
              "freq      210964            2          14"
            ],
            "text/html": [
              "\n",
              "  <div id=\"df-e2cac71c-da99-4644-873c-71a2727449cc\" class=\"colab-df-container\">\n",
              "    <div>\n",
              "<style scoped>\n",
              "    .dataframe tbody tr th:only-of-type {\n",
              "        vertical-align: middle;\n",
              "    }\n",
              "\n",
              "    .dataframe tbody tr th {\n",
              "        vertical-align: top;\n",
              "    }\n",
              "\n",
              "    .dataframe thead th {\n",
              "        text-align: right;\n",
              "    }\n",
              "</style>\n",
              "<table border=\"1\" class=\"dataframe\">\n",
              "  <thead>\n",
              "    <tr style=\"text-align: right;\">\n",
              "      <th></th>\n",
              "      <th>type</th>\n",
              "      <th>nameOrig</th>\n",
              "      <th>nameDest</th>\n",
              "    </tr>\n",
              "  </thead>\n",
              "  <tbody>\n",
              "    <tr>\n",
              "      <th>count</th>\n",
              "      <td>600000</td>\n",
              "      <td>600000</td>\n",
              "      <td>600000</td>\n",
              "    </tr>\n",
              "    <tr>\n",
              "      <th>unique</th>\n",
              "      <td>5</td>\n",
              "      <td>599917</td>\n",
              "      <td>437160</td>\n",
              "    </tr>\n",
              "    <tr>\n",
              "      <th>top</th>\n",
              "      <td>CASH_OUT</td>\n",
              "      <td>C1007679575</td>\n",
              "      <td>C667346055</td>\n",
              "    </tr>\n",
              "    <tr>\n",
              "      <th>freq</th>\n",
              "      <td>210964</td>\n",
              "      <td>2</td>\n",
              "      <td>14</td>\n",
              "    </tr>\n",
              "  </tbody>\n",
              "</table>\n",
              "</div>\n",
              "    <div class=\"colab-df-buttons\">\n",
              "\n",
              "  <div class=\"colab-df-container\">\n",
              "    <button class=\"colab-df-convert\" onclick=\"convertToInteractive('df-e2cac71c-da99-4644-873c-71a2727449cc')\"\n",
              "            title=\"Convert this dataframe to an interactive table.\"\n",
              "            style=\"display:none;\">\n",
              "\n",
              "  <svg xmlns=\"http://www.w3.org/2000/svg\" height=\"24px\" viewBox=\"0 -960 960 960\">\n",
              "    <path d=\"M120-120v-720h720v720H120Zm60-500h600v-160H180v160Zm220 220h160v-160H400v160Zm0 220h160v-160H400v160ZM180-400h160v-160H180v160Zm440 0h160v-160H620v160ZM180-180h160v-160H180v160Zm440 0h160v-160H620v160Z\"/>\n",
              "  </svg>\n",
              "    </button>\n",
              "\n",
              "  <style>\n",
              "    .colab-df-container {\n",
              "      display:flex;\n",
              "      gap: 12px;\n",
              "    }\n",
              "\n",
              "    .colab-df-convert {\n",
              "      background-color: #E8F0FE;\n",
              "      border: none;\n",
              "      border-radius: 50%;\n",
              "      cursor: pointer;\n",
              "      display: none;\n",
              "      fill: #1967D2;\n",
              "      height: 32px;\n",
              "      padding: 0 0 0 0;\n",
              "      width: 32px;\n",
              "    }\n",
              "\n",
              "    .colab-df-convert:hover {\n",
              "      background-color: #E2EBFA;\n",
              "      box-shadow: 0px 1px 2px rgba(60, 64, 67, 0.3), 0px 1px 3px 1px rgba(60, 64, 67, 0.15);\n",
              "      fill: #174EA6;\n",
              "    }\n",
              "\n",
              "    .colab-df-buttons div {\n",
              "      margin-bottom: 4px;\n",
              "    }\n",
              "\n",
              "    [theme=dark] .colab-df-convert {\n",
              "      background-color: #3B4455;\n",
              "      fill: #D2E3FC;\n",
              "    }\n",
              "\n",
              "    [theme=dark] .colab-df-convert:hover {\n",
              "      background-color: #434B5C;\n",
              "      box-shadow: 0px 1px 3px 1px rgba(0, 0, 0, 0.15);\n",
              "      filter: drop-shadow(0px 1px 2px rgba(0, 0, 0, 0.3));\n",
              "      fill: #FFFFFF;\n",
              "    }\n",
              "  </style>\n",
              "\n",
              "    <script>\n",
              "      const buttonEl =\n",
              "        document.querySelector('#df-e2cac71c-da99-4644-873c-71a2727449cc button.colab-df-convert');\n",
              "      buttonEl.style.display =\n",
              "        google.colab.kernel.accessAllowed ? 'block' : 'none';\n",
              "\n",
              "      async function convertToInteractive(key) {\n",
              "        const element = document.querySelector('#df-e2cac71c-da99-4644-873c-71a2727449cc');\n",
              "        const dataTable =\n",
              "          await google.colab.kernel.invokeFunction('convertToInteractive',\n",
              "                                                    [key], {});\n",
              "        if (!dataTable) return;\n",
              "\n",
              "        const docLinkHtml = 'Like what you see? Visit the ' +\n",
              "          '<a target=\"_blank\" href=https://colab.research.google.com/notebooks/data_table.ipynb>data table notebook</a>'\n",
              "          + ' to learn more about interactive tables.';\n",
              "        element.innerHTML = '';\n",
              "        dataTable['output_type'] = 'display_data';\n",
              "        await google.colab.output.renderOutput(dataTable, element);\n",
              "        const docLink = document.createElement('div');\n",
              "        docLink.innerHTML = docLinkHtml;\n",
              "        element.appendChild(docLink);\n",
              "      }\n",
              "    </script>\n",
              "  </div>\n",
              "\n",
              "\n",
              "<div id=\"df-f568828c-eb21-4bda-83cb-0083f3508d86\">\n",
              "  <button class=\"colab-df-quickchart\" onclick=\"quickchart('df-f568828c-eb21-4bda-83cb-0083f3508d86')\"\n",
              "            title=\"Suggest charts\"\n",
              "            style=\"display:none;\">\n",
              "\n",
              "<svg xmlns=\"http://www.w3.org/2000/svg\" height=\"24px\"viewBox=\"0 0 24 24\"\n",
              "     width=\"24px\">\n",
              "    <g>\n",
              "        <path d=\"M19 3H5c-1.1 0-2 .9-2 2v14c0 1.1.9 2 2 2h14c1.1 0 2-.9 2-2V5c0-1.1-.9-2-2-2zM9 17H7v-7h2v7zm4 0h-2V7h2v10zm4 0h-2v-4h2v4z\"/>\n",
              "    </g>\n",
              "</svg>\n",
              "  </button>\n",
              "\n",
              "<style>\n",
              "  .colab-df-quickchart {\n",
              "      --bg-color: #E8F0FE;\n",
              "      --fill-color: #1967D2;\n",
              "      --hover-bg-color: #E2EBFA;\n",
              "      --hover-fill-color: #174EA6;\n",
              "      --disabled-fill-color: #AAA;\n",
              "      --disabled-bg-color: #DDD;\n",
              "  }\n",
              "\n",
              "  [theme=dark] .colab-df-quickchart {\n",
              "      --bg-color: #3B4455;\n",
              "      --fill-color: #D2E3FC;\n",
              "      --hover-bg-color: #434B5C;\n",
              "      --hover-fill-color: #FFFFFF;\n",
              "      --disabled-bg-color: #3B4455;\n",
              "      --disabled-fill-color: #666;\n",
              "  }\n",
              "\n",
              "  .colab-df-quickchart {\n",
              "    background-color: var(--bg-color);\n",
              "    border: none;\n",
              "    border-radius: 50%;\n",
              "    cursor: pointer;\n",
              "    display: none;\n",
              "    fill: var(--fill-color);\n",
              "    height: 32px;\n",
              "    padding: 0;\n",
              "    width: 32px;\n",
              "  }\n",
              "\n",
              "  .colab-df-quickchart:hover {\n",
              "    background-color: var(--hover-bg-color);\n",
              "    box-shadow: 0 1px 2px rgba(60, 64, 67, 0.3), 0 1px 3px 1px rgba(60, 64, 67, 0.15);\n",
              "    fill: var(--button-hover-fill-color);\n",
              "  }\n",
              "\n",
              "  .colab-df-quickchart-complete:disabled,\n",
              "  .colab-df-quickchart-complete:disabled:hover {\n",
              "    background-color: var(--disabled-bg-color);\n",
              "    fill: var(--disabled-fill-color);\n",
              "    box-shadow: none;\n",
              "  }\n",
              "\n",
              "  .colab-df-spinner {\n",
              "    border: 2px solid var(--fill-color);\n",
              "    border-color: transparent;\n",
              "    border-bottom-color: var(--fill-color);\n",
              "    animation:\n",
              "      spin 1s steps(1) infinite;\n",
              "  }\n",
              "\n",
              "  @keyframes spin {\n",
              "    0% {\n",
              "      border-color: transparent;\n",
              "      border-bottom-color: var(--fill-color);\n",
              "      border-left-color: var(--fill-color);\n",
              "    }\n",
              "    20% {\n",
              "      border-color: transparent;\n",
              "      border-left-color: var(--fill-color);\n",
              "      border-top-color: var(--fill-color);\n",
              "    }\n",
              "    30% {\n",
              "      border-color: transparent;\n",
              "      border-left-color: var(--fill-color);\n",
              "      border-top-color: var(--fill-color);\n",
              "      border-right-color: var(--fill-color);\n",
              "    }\n",
              "    40% {\n",
              "      border-color: transparent;\n",
              "      border-right-color: var(--fill-color);\n",
              "      border-top-color: var(--fill-color);\n",
              "    }\n",
              "    60% {\n",
              "      border-color: transparent;\n",
              "      border-right-color: var(--fill-color);\n",
              "    }\n",
              "    80% {\n",
              "      border-color: transparent;\n",
              "      border-right-color: var(--fill-color);\n",
              "      border-bottom-color: var(--fill-color);\n",
              "    }\n",
              "    90% {\n",
              "      border-color: transparent;\n",
              "      border-bottom-color: var(--fill-color);\n",
              "    }\n",
              "  }\n",
              "</style>\n",
              "\n",
              "  <script>\n",
              "    async function quickchart(key) {\n",
              "      const quickchartButtonEl =\n",
              "        document.querySelector('#' + key + ' button');\n",
              "      quickchartButtonEl.disabled = true;  // To prevent multiple clicks.\n",
              "      quickchartButtonEl.classList.add('colab-df-spinner');\n",
              "      try {\n",
              "        const charts = await google.colab.kernel.invokeFunction(\n",
              "            'suggestCharts', [key], {});\n",
              "      } catch (error) {\n",
              "        console.error('Error during call to suggestCharts:', error);\n",
              "      }\n",
              "      quickchartButtonEl.classList.remove('colab-df-spinner');\n",
              "      quickchartButtonEl.classList.add('colab-df-quickchart-complete');\n",
              "    }\n",
              "    (() => {\n",
              "      let quickchartButtonEl =\n",
              "        document.querySelector('#df-f568828c-eb21-4bda-83cb-0083f3508d86 button');\n",
              "      quickchartButtonEl.style.display =\n",
              "        google.colab.kernel.accessAllowed ? 'block' : 'none';\n",
              "    })();\n",
              "  </script>\n",
              "</div>\n",
              "\n",
              "    </div>\n",
              "  </div>\n"
            ],
            "application/vnd.google.colaboratory.intrinsic+json": {
              "type": "dataframe",
              "summary": "{\n  \"name\": \"df\",\n  \"rows\": 4,\n  \"fields\": [\n    {\n      \"column\": \"type\",\n      \"properties\": {\n        \"dtype\": \"string\",\n        \"num_unique_values\": 4,\n        \"samples\": [\n          5,\n          \"210964\",\n          \"600000\"\n        ],\n        \"semantic_type\": \"\",\n        \"description\": \"\"\n      }\n    },\n    {\n      \"column\": \"nameOrig\",\n      \"properties\": {\n        \"dtype\": \"string\",\n        \"num_unique_values\": 4,\n        \"samples\": [\n          599917,\n          \"2\",\n          \"600000\"\n        ],\n        \"semantic_type\": \"\",\n        \"description\": \"\"\n      }\n    },\n    {\n      \"column\": \"nameDest\",\n      \"properties\": {\n        \"dtype\": \"string\",\n        \"num_unique_values\": 4,\n        \"samples\": [\n          437160,\n          \"14\",\n          \"600000\"\n        ],\n        \"semantic_type\": \"\",\n        \"description\": \"\"\n      }\n    }\n  ]\n}"
            }
          },
          "metadata": {},
          "execution_count": 9
        }
      ],
      "source": [
        "df.describe(include=\"object\")"
      ]
    },
    {
      "cell_type": "code",
      "execution_count": null,
      "id": "a223f9cc",
      "metadata": {
        "colab": {
          "base_uri": "https://localhost:8080/",
          "height": 1000
        },
        "id": "a223f9cc",
        "outputId": "3ccdc0a8-0a13-4ded-8947-68aad94c5433"
      },
      "outputs": [
        {
          "output_type": "display_data",
          "data": {
            "text/plain": [
              "<Figure size 640x480 with 1 Axes>"
            ],
            "image/png": "[encoded data removed]"
          },
          "metadata": {}
        },
        {
          "output_type": "display_data",
          "data": {
            "text/plain": [
              "<Figure size 640x480 with 1 Axes>"
            ],
            "image/png": "[encoded data removed]"
          },
          "metadata": {}
        },
        {
          "output_type": "display_data",
          "data": {
            "text/plain": [
              "<Figure size 640x480 with 1 Axes>"
            ],
            "image/png": "[encoded data removed]"
          },
          "metadata": {}
        },
        {
          "output_type": "display_data",
          "data": {
            "text/plain": [
              "<Figure size 640x480 with 1 Axes>"
            ],
            "image/png": "[encoded data removed]"
          },
          "metadata": {}
        },
        {
          "output_type": "display_data",
          "data": {
            "text/plain": [
              "<Figure size 640x480 with 1 Axes>"
            ],
            "image/png": "[encoded data removed]"
          },
          "metadata": {}
        },
        {
          "output_type": "display_data",
          "data": {
            "text/plain": [
              "<Figure size 640x480 with 1 Axes>"
            ],
            "image/png": "[encoded data removed]"
          },
          "metadata": {}
        },
        {
          "output_type": "display_data",
          "data": {
            "text/plain": [
              "<Figure size 640x480 with 1 Axes>"
            ],
            "image/png": "[encoded data removed]"
          },
          "metadata": {}
        },
        {
          "output_type": "display_data",
          "data": {
            "text/plain": [
              "<Figure size 640x480 with 1 Axes>"
            ],
            "image/png": "[encoded data removed]"
          },
          "metadata": {}
        }
      ],
      "source": [
        "# visual exploration of all the numerical features\n",
        "for i in df.select_dtypes(include=\"number\").columns:\n",
        "    sns.histplot(data=df,x=i)\n",
        "    plt.show()"
      ]
    },
    {
      "cell_type": "code",
      "execution_count": null,
      "id": "a81d4afd",
      "metadata": {
        "colab": {
          "base_uri": "https://localhost:8080/",
          "height": 1000
        },
        "id": "a81d4afd",
        "outputId": "2e5285a0-3d32-4dad-d383-8f595c88d9e7"
      },
      "outputs": [
        {
          "output_type": "display_data",
          "data": {
            "text/plain": [
              "<Figure size 640x480 with 1 Axes>"
            ],
            "image/png": "[encoded data removed]"
          },
          "metadata": {}
        },
        {
          "output_type": "display_data",
          "data": {
            "text/plain": [
              "<Figure size 2000x2000 with 0 Axes>"
            ]
          },
          "metadata": {}
        },
        {
          "output_type": "display_data",
          "data": {
            "text/plain": [
              "<Figure size 640x480 with 1 Axes>"
            ],
            "image/png": "[encoded data removed]"
          },
          "metadata": {}
        },
        {
          "output_type": "display_data",
          "data": {
            "text/plain": [
              "<Figure size 2000x2000 with 0 Axes>"
            ]
          },
          "metadata": {}
        },
        {
          "output_type": "display_data",
          "data": {
            "text/plain": [
              "<Figure size 640x480 with 1 Axes>"
            ],
            "image/png": "[encoded data removed]"
          },
          "metadata": {}
        },
        {
          "output_type": "display_data",
          "data": {
            "text/plain": [
              "<Figure size 2000x2000 with 0 Axes>"
            ]
          },
          "metadata": {}
        },
        {
          "output_type": "display_data",
          "data": {
            "text/plain": [
              "<Figure size 640x480 with 1 Axes>"
            ],
            "image/png": "[encoded data removed]"
          },
          "metadata": {}
        },
        {
          "output_type": "display_data",
          "data": {
            "text/plain": [
              "<Figure size 2000x2000 with 0 Axes>"
            ]
          },
          "metadata": {}
        },
        {
          "output_type": "display_data",
          "data": {
            "text/plain": [
              "<Figure size 640x480 with 1 Axes>"
            ],
            "image/png": "[encoded data removed]"
          },
          "metadata": {}
        },
        {
          "output_type": "display_data",
          "data": {
            "text/plain": [
              "<Figure size 2000x2000 with 0 Axes>"
            ]
          },
          "metadata": {}
        },
        {
          "output_type": "display_data",
          "data": {
            "text/plain": [
              "<Figure size 640x480 with 1 Axes>"
            ],
            "image/png": "[encoded data removed]"
          },
          "metadata": {}
        },
        {
          "output_type": "display_data",
          "data": {
            "text/plain": [
              "<Figure size 2000x2000 with 0 Axes>"
            ]
          },
          "metadata": {}
        },
        {
          "output_type": "display_data",
          "data": {
            "text/plain": [
              "<Figure size 640x480 with 1 Axes>"
            ],
            "image/png": "[encoded data removed]"
          },
          "metadata": {}
        },
        {
          "output_type": "display_data",
          "data": {
            "text/plain": [
              "<Figure size 2000x2000 with 0 Axes>"
            ]
          },
          "metadata": {}
        },
        {
          "output_type": "display_data",
          "data": {
            "text/plain": [
              "<Figure size 640x480 with 1 Axes>"
            ],
            "image/png": "[encoded data removed]"
          },
          "metadata": {}
        },
        {
          "output_type": "display_data",
          "data": {
            "text/plain": [
              "<Figure size 2000x2000 with 0 Axes>"
            ]
          },
          "metadata": {}
        }
      ],
      "source": [
        "# detect outlier\n",
        "for i in df.select_dtypes(include=\"number\").columns:\n",
        "    sns.boxplot(data=df,x=i)\n",
        "    plt.figure(figsize=(20,20))\n",
        "    plt.show()"
      ]
    },
    {
      "cell_type": "code",
      "execution_count": null,
      "id": "2d4b18cd",
      "metadata": {
        "colab": {
          "base_uri": "https://localhost:8080/"
        },
        "id": "2d4b18cd",
        "outputId": "2dc1deae-bfd6-4a51-b427-a9789b6ee339"
      },
      "outputs": [
        {
          "output_type": "execute_result",
          "data": {
            "text/plain": [
              "Index(['step', 'amount', 'oldbalanceOrg', 'newbalanceOrig', 'oldbalanceDest',\n",
              "       'newbalanceDest', 'isFraud', 'isFlaggedFraud'],\n",
              "      dtype='object')"
            ]
          },
          "metadata": {},
          "execution_count": 13
        }
      ],
      "source": [
        "df.select_dtypes(include=\"number\").columns"
      ]
    },
    {
      "cell_type": "code",
      "execution_count": null,
      "id": "ddaeb350",
      "metadata": {
        "colab": {
          "base_uri": "https://localhost:8080/",
          "height": 937
        },
        "id": "ddaeb350",
        "outputId": "83504dd3-e2fb-4389-e73b-2e58c6faffc2"
      },
      "outputs": [
        {
          "output_type": "display_data",
          "data": {
            "text/plain": [
              "<Figure size 1000x1000 with 2 Axes>"
            ],
            "image/png": "[encoded data removed]"
          },
          "metadata": {}
        }
      ],
      "source": [
        "#correlation with heatmap\n",
        "s=df.select_dtypes(include=\"number\").corr()\n",
        "plt.figure(figsize=(10,10))\n",
        "sns.heatmap(s,annot=True)\n",
        "plt.show()"
      ]
    },
    {
      "cell_type": "code",
      "execution_count": null,
      "id": "0d8eb082",
      "metadata": {
        "id": "0d8eb082"
      },
      "outputs": [],
      "source": [
        "# handle outliers\n",
        "def handle_outliers_iqr(df, columns):\n",
        "  \"\"\"Handles outliers using the Interquartile Range (IQR) method for specified columns in a DataFrame.\n",
        "\n",
        "  Args:\n",
        "    df: The pandas DataFrame containing the data.\n",
        "    columns: A list of column names to handle outliers for.\n",
        "  \"\"\"\n",
        "\n",
        "  for col in columns:\n",
        "    Q1 = df[col].quantile(0.25)\n",
        "    Q3 = df[col].quantile(0.75)\n",
        "    IQR = Q3 - Q1\n",
        "    lower_bound = Q1 - 1.5 * IQR\n",
        "    upper_bound = Q3 + 1.5 * IQR\n",
        "\n",
        "    # Replace outliers with the nearest bound\n",
        "    df[col] = np.where(df[col] < lower_bound, lower_bound, df[col])\n",
        "    df[col] = np.where(df[col] > upper_bound, upper_bound, df[col])\n",
        "\n",
        "  return df\n",
        "\n",
        "columns_to_handle = ['step' , 'amount', 'oldbalanceOrg', 'oldbalanceDest']\n",
        "df = handle_outliers_iqr(df, columns_to_handle)"
      ]
    },
    {
      "cell_type": "markdown",
      "source": [
        "Feature selection"
      ],
      "metadata": {
        "id": "m6MxUTe_eJVG"
      },
      "id": "m6MxUTe_eJVG"
    },
    {
      "cell_type": "code",
      "source": [
        "#1) Their is multi_collinearity between 4 independent features\n",
        "#2) Best option is to remove 'newbalanceOrig' and 'newbalanceDest', becuase they are less correlated with dependent feature ( \"isFraud\"),\n",
        "\n",
        "df = df.drop([\"newbalanceOrig\" , \"newbalanceDest\"] , axis=1)"
      ],
      "metadata": {
        "id": "4fbJxLvHeLM3"
      },
      "id": "4fbJxLvHeLM3",
      "execution_count": null,
      "outputs": []
    },
    {
      "cell_type": "code",
      "execution_count": null,
      "id": "426a851a",
      "metadata": {
        "id": "426a851a"
      },
      "outputs": [],
      "source": [
        "df = df.drop([\"isFlaggedFraud\"] , axis=1)"
      ]
    },
    {
      "cell_type": "code",
      "execution_count": null,
      "id": "7727a007",
      "metadata": {
        "id": "7727a007"
      },
      "outputs": [],
      "source": [
        "df = df.drop([\"nameOrig\" , \"nameDest\"] , axis=1)"
      ]
    },
    {
      "cell_type": "code",
      "execution_count": null,
      "id": "8e9fc8f0",
      "metadata": {
        "colab": {
          "base_uri": "https://localhost:8080/",
          "height": 423
        },
        "id": "8e9fc8f0",
        "outputId": "de9844aa-a86a-408d-ef14-5c51b73c0d98"
      },
      "outputs": [
        {
          "output_type": "execute_result",
          "data": {
            "text/plain": [
              "         step      type        amount  oldbalanceOrg  oldbalanceDest  isFraud\n",
              "0       330.0   CASH_IN  501452.04875      268922.50     2346582.525        0\n",
              "1       281.0   PAYMENT    3473.75000           0.00           0.000        0\n",
              "2       322.0  CASH_OUT   66170.69000       32803.00           0.000        0\n",
              "3       401.0  TRANSFER  335384.26000         197.00     2346582.525        0\n",
              "4       180.0   CASH_IN  234392.25000       20882.00           0.000        0\n",
              "...       ...       ...           ...            ...             ...      ...\n",
              "599995  259.0  CASH_OUT  214536.92000        8038.00       78268.570        0\n",
              "599996  353.0  CASH_OUT  261789.26000       86576.05      381514.020        0\n",
              "599997   21.0  CASH_OUT   10186.93000      103123.00       41667.220        0\n",
              "599998  330.0  TRANSFER  125737.11000           0.00     1013921.690        0\n",
              "599999  233.0   PAYMENT   11024.42000           0.00           0.000        0\n",
              "\n",
              "[600000 rows x 6 columns]"
            ],
            "text/html": [
              "\n",
              "  <div id=\"df-f7340da6-3a9e-43c6-af4b-164702135f73\" class=\"colab-df-container\">\n",
              "    <div>\n",
              "<style scoped>\n",
              "    .dataframe tbody tr th:only-of-type {\n",
              "        vertical-align: middle;\n",
              "    }\n",
              "\n",
              "    .dataframe tbody tr th {\n",
              "        vertical-align: top;\n",
              "    }\n",
              "\n",
              "    .dataframe thead th {\n",
              "        text-align: right;\n",
              "    }\n",
              "</style>\n",
              "<table border=\"1\" class=\"dataframe\">\n",
              "  <thead>\n",
              "    <tr style=\"text-align: right;\">\n",
              "      <th></th>\n",
              "      <th>step</th>\n",
              "      <th>type</th>\n",
              "      <th>amount</th>\n",
              "      <th>oldbalanceOrg</th>\n",
              "      <th>oldbalanceDest</th>\n",
              "      <th>isFraud</th>\n",
              "    </tr>\n",
              "  </thead>\n",
              "  <tbody>\n",
              "    <tr>\n",
              "      <th>0</th>\n",
              "      <td>330.0</td>\n",
              "      <td>CASH_IN</td>\n",
              "      <td>501452.04875</td>\n",
              "      <td>268922.50</td>\n",
              "      <td>2346582.525</td>\n",
              "      <td>0</td>\n",
              "    </tr>\n",
              "    <tr>\n",
              "      <th>1</th>\n",
              "      <td>281.0</td>\n",
              "      <td>PAYMENT</td>\n",
              "      <td>3473.75000</td>\n",
              "      <td>0.00</td>\n",
              "      <td>0.000</td>\n",
              "      <td>0</td>\n",
              "    </tr>\n",
              "    <tr>\n",
              "      <th>2</th>\n",
              "      <td>322.0</td>\n",
              "      <td>CASH_OUT</td>\n",
              "      <td>66170.69000</td>\n",
              "      <td>32803.00</td>\n",
              "      <td>0.000</td>\n",
              "      <td>0</td>\n",
              "    </tr>\n",
              "    <tr>\n",
              "      <th>3</th>\n",
              "      <td>401.0</td>\n",
              "      <td>TRANSFER</td>\n",
              "      <td>335384.26000</td>\n",
              "      <td>197.00</td>\n",
              "      <td>2346582.525</td>\n",
              "      <td>0</td>\n",
              "    </tr>\n",
              "    <tr>\n",
              "      <th>4</th>\n",
              "      <td>180.0</td>\n",
              "      <td>CASH_IN</td>\n",
              "      <td>234392.25000</td>\n",
              "      <td>20882.00</td>\n",
              "      <td>0.000</td>\n",
              "      <td>0</td>\n",
              "    </tr>\n",
              "    <tr>\n",
              "      <th>...</th>\n",
              "      <td>...</td>\n",
              "      <td>...</td>\n",
              "      <td>...</td>\n",
              "      <td>...</td>\n",
              "      <td>...</td>\n",
              "      <td>...</td>\n",
              "    </tr>\n",
              "    <tr>\n",
              "      <th>599995</th>\n",
              "      <td>259.0</td>\n",
              "      <td>CASH_OUT</td>\n",
              "      <td>214536.92000</td>\n",
              "      <td>8038.00</td>\n",
              "      <td>78268.570</td>\n",
              "      <td>0</td>\n",
              "    </tr>\n",
              "    <tr>\n",
              "      <th>599996</th>\n",
              "      <td>353.0</td>\n",
              "      <td>CASH_OUT</td>\n",
              "      <td>261789.26000</td>\n",
              "      <td>86576.05</td>\n",
              "      <td>381514.020</td>\n",
              "      <td>0</td>\n",
              "    </tr>\n",
              "    <tr>\n",
              "      <th>599997</th>\n",
              "      <td>21.0</td>\n",
              "      <td>CASH_OUT</td>\n",
              "      <td>10186.93000</td>\n",
              "      <td>103123.00</td>\n",
              "      <td>41667.220</td>\n",
              "      <td>0</td>\n",
              "    </tr>\n",
              "    <tr>\n",
              "      <th>599998</th>\n",
              "      <td>330.0</td>\n",
              "      <td>TRANSFER</td>\n",
              "      <td>125737.11000</td>\n",
              "      <td>0.00</td>\n",
              "      <td>1013921.690</td>\n",
              "      <td>0</td>\n",
              "    </tr>\n",
              "    <tr>\n",
              "      <th>599999</th>\n",
              "      <td>233.0</td>\n",
              "      <td>PAYMENT</td>\n",
              "      <td>11024.42000</td>\n",
              "      <td>0.00</td>\n",
              "      <td>0.000</td>\n",
              "      <td>0</td>\n",
              "    </tr>\n",
              "  </tbody>\n",
              "</table>\n",
              "<p>600000 rows × 6 columns</p>\n",
              "</div>\n",
              "    <div class=\"colab-df-buttons\">\n",
              "\n",
              "  <div class=\"colab-df-container\">\n",
              "    <button class=\"colab-df-convert\" onclick=\"convertToInteractive('df-f7340da6-3a9e-43c6-af4b-164702135f73')\"\n",
              "            title=\"Convert this dataframe to an interactive table.\"\n",
              "            style=\"display:none;\">\n",
              "\n",
              "  <svg xmlns=\"http://www.w3.org/2000/svg\" height=\"24px\" viewBox=\"0 -960 960 960\">\n",
              "    <path d=\"M120-120v-720h720v720H120Zm60-500h600v-160H180v160Zm220 220h160v-160H400v160Zm0 220h160v-160H400v160ZM180-400h160v-160H180v160Zm440 0h160v-160H620v160ZM180-180h160v-160H180v160Zm440 0h160v-160H620v160Z\"/>\n",
              "  </svg>\n",
              "    </button>\n",
              "\n",
              "  <style>\n",
              "    .colab-df-container {\n",
              "      display:flex;\n",
              "      gap: 12px;\n",
              "    }\n",
              "\n",
              "    .colab-df-convert {\n",
              "      background-color: #E8F0FE;\n",
              "      border: none;\n",
              "      border-radius: 50%;\n",
              "      cursor: pointer;\n",
              "      display: none;\n",
              "      fill: #1967D2;\n",
              "      height: 32px;\n",
              "      padding: 0 0 0 0;\n",
              "      width: 32px;\n",
              "    }\n",
              "\n",
              "    .colab-df-convert:hover {\n",
              "      background-color: #E2EBFA;\n",
              "      box-shadow: 0px 1px 2px rgba(60, 64, 67, 0.3), 0px 1px 3px 1px rgba(60, 64, 67, 0.15);\n",
              "      fill: #174EA6;\n",
              "    }\n",
              "\n",
              "    .colab-df-buttons div {\n",
              "      margin-bottom: 4px;\n",
              "    }\n",
              "\n",
              "    [theme=dark] .colab-df-convert {\n",
              "      background-color: #3B4455;\n",
              "      fill: #D2E3FC;\n",
              "    }\n",
              "\n",
              "    [theme=dark] .colab-df-convert:hover {\n",
              "      background-color: #434B5C;\n",
              "      box-shadow: 0px 1px 3px 1px rgba(0, 0, 0, 0.15);\n",
              "      filter: drop-shadow(0px 1px 2px rgba(0, 0, 0, 0.3));\n",
              "      fill: #FFFFFF;\n",
              "    }\n",
              "  </style>\n",
              "\n",
              "    <script>\n",
              "      const buttonEl =\n",
              "        document.querySelector('#df-f7340da6-3a9e-43c6-af4b-164702135f73 button.colab-df-convert');\n",
              "      buttonEl.style.display =\n",
              "        google.colab.kernel.accessAllowed ? 'block' : 'none';\n",
              "\n",
              "      async function convertToInteractive(key) {\n",
              "        const element = document.querySelector('#df-f7340da6-3a9e-43c6-af4b-164702135f73');\n",
              "        const dataTable =\n",
              "          await google.colab.kernel.invokeFunction('convertToInteractive',\n",
              "                                                    [key], {});\n",
              "        if (!dataTable) return;\n",
              "\n",
              "        const docLinkHtml = 'Like what you see? Visit the ' +\n",
              "          '<a target=\"_blank\" href=https://colab.research.google.com/notebooks/data_table.ipynb>data table notebook</a>'\n",
              "          + ' to learn more about interactive tables.';\n",
              "        element.innerHTML = '';\n",
              "        dataTable['output_type'] = 'display_data';\n",
              "        await google.colab.output.renderOutput(dataTable, element);\n",
              "        const docLink = document.createElement('div');\n",
              "        docLink.innerHTML = docLinkHtml;\n",
              "        element.appendChild(docLink);\n",
              "      }\n",
              "    </script>\n",
              "  </div>\n",
              "\n",
              "\n",
              "<div id=\"df-e83edc45-6be6-41ac-a967-1cd93ad13b7c\">\n",
              "  <button class=\"colab-df-quickchart\" onclick=\"quickchart('df-e83edc45-6be6-41ac-a967-1cd93ad13b7c')\"\n",
              "            title=\"Suggest charts\"\n",
              "            style=\"display:none;\">\n",
              "\n",
              "<svg xmlns=\"http://www.w3.org/2000/svg\" height=\"24px\"viewBox=\"0 0 24 24\"\n",
              "     width=\"24px\">\n",
              "    <g>\n",
              "        <path d=\"M19 3H5c-1.1 0-2 .9-2 2v14c0 1.1.9 2 2 2h14c1.1 0 2-.9 2-2V5c0-1.1-.9-2-2-2zM9 17H7v-7h2v7zm4 0h-2V7h2v10zm4 0h-2v-4h2v4z\"/>\n",
              "    </g>\n",
              "</svg>\n",
              "  </button>\n",
              "\n",
              "<style>\n",
              "  .colab-df-quickchart {\n",
              "      --bg-color: #E8F0FE;\n",
              "      --fill-color: #1967D2;\n",
              "      --hover-bg-color: #E2EBFA;\n",
              "      --hover-fill-color: #174EA6;\n",
              "      --disabled-fill-color: #AAA;\n",
              "      --disabled-bg-color: #DDD;\n",
              "  }\n",
              "\n",
              "  [theme=dark] .colab-df-quickchart {\n",
              "      --bg-color: #3B4455;\n",
              "      --fill-color: #D2E3FC;\n",
              "      --hover-bg-color: #434B5C;\n",
              "      --hover-fill-color: #FFFFFF;\n",
              "      --disabled-bg-color: #3B4455;\n",
              "      --disabled-fill-color: #666;\n",
              "  }\n",
              "\n",
              "  .colab-df-quickchart {\n",
              "    background-color: var(--bg-color);\n",
              "    border: none;\n",
              "    border-radius: 50%;\n",
              "    cursor: pointer;\n",
              "    display: none;\n",
              "    fill: var(--fill-color);\n",
              "    height: 32px;\n",
              "    padding: 0;\n",
              "    width: 32px;\n",
              "  }\n",
              "\n",
              "  .colab-df-quickchart:hover {\n",
              "    background-color: var(--hover-bg-color);\n",
              "    box-shadow: 0 1px 2px rgba(60, 64, 67, 0.3), 0 1px 3px 1px rgba(60, 64, 67, 0.15);\n",
              "    fill: var(--button-hover-fill-color);\n",
              "  }\n",
              "\n",
              "  .colab-df-quickchart-complete:disabled,\n",
              "  .colab-df-quickchart-complete:disabled:hover {\n",
              "    background-color: var(--disabled-bg-color);\n",
              "    fill: var(--disabled-fill-color);\n",
              "    box-shadow: none;\n",
              "  }\n",
              "\n",
              "  .colab-df-spinner {\n",
              "    border: 2px solid var(--fill-color);\n",
              "    border-color: transparent;\n",
              "    border-bottom-color: var(--fill-color);\n",
              "    animation:\n",
              "      spin 1s steps(1) infinite;\n",
              "  }\n",
              "\n",
              "  @keyframes spin {\n",
              "    0% {\n",
              "      border-color: transparent;\n",
              "      border-bottom-color: var(--fill-color);\n",
              "      border-left-color: var(--fill-color);\n",
              "    }\n",
              "    20% {\n",
              "      border-color: transparent;\n",
              "      border-left-color: var(--fill-color);\n",
              "      border-top-color: var(--fill-color);\n",
              "    }\n",
              "    30% {\n",
              "      border-color: transparent;\n",
              "      border-left-color: var(--fill-color);\n",
              "      border-top-color: var(--fill-color);\n",
              "      border-right-color: var(--fill-color);\n",
              "    }\n",
              "    40% {\n",
              "      border-color: transparent;\n",
              "      border-right-color: var(--fill-color);\n",
              "      border-top-color: var(--fill-color);\n",
              "    }\n",
              "    60% {\n",
              "      border-color: transparent;\n",
              "      border-right-color: var(--fill-color);\n",
              "    }\n",
              "    80% {\n",
              "      border-color: transparent;\n",
              "      border-right-color: var(--fill-color);\n",
              "      border-bottom-color: var(--fill-color);\n",
              "    }\n",
              "    90% {\n",
              "      border-color: transparent;\n",
              "      border-bottom-color: var(--fill-color);\n",
              "    }\n",
              "  }\n",
              "</style>\n",
              "\n",
              "  <script>\n",
              "    async function quickchart(key) {\n",
              "      const quickchartButtonEl =\n",
              "        document.querySelector('#' + key + ' button');\n",
              "      quickchartButtonEl.disabled = true;  // To prevent multiple clicks.\n",
              "      quickchartButtonEl.classList.add('colab-df-spinner');\n",
              "      try {\n",
              "        const charts = await google.colab.kernel.invokeFunction(\n",
              "            'suggestCharts', [key], {});\n",
              "      } catch (error) {\n",
              "        console.error('Error during call to suggestCharts:', error);\n",
              "      }\n",
              "      quickchartButtonEl.classList.remove('colab-df-spinner');\n",
              "      quickchartButtonEl.classList.add('colab-df-quickchart-complete');\n",
              "    }\n",
              "    (() => {\n",
              "      let quickchartButtonEl =\n",
              "        document.querySelector('#df-e83edc45-6be6-41ac-a967-1cd93ad13b7c button');\n",
              "      quickchartButtonEl.style.display =\n",
              "        google.colab.kernel.accessAllowed ? 'block' : 'none';\n",
              "    })();\n",
              "  </script>\n",
              "</div>\n",
              "\n",
              "  <div id=\"id_2984af97-39a7-4495-8aa4-7227849ae7bf\">\n",
              "    <style>\n",
              "      .colab-df-generate {\n",
              "        background-color: #E8F0FE;\n",
              "        border: none;\n",
              "        border-radius: 50%;\n",
              "        cursor: pointer;\n",
              "        display: none;\n",
              "        fill: #1967D2;\n",
              "        height: 32px;\n",
              "        padding: 0 0 0 0;\n",
              "        width: 32px;\n",
              "      }\n",
              "\n",
              "      .colab-df-generate:hover {\n",
              "        background-color: #E2EBFA;\n",
              "        box-shadow: 0px 1px 2px rgba(60, 64, 67, 0.3), 0px 1px 3px 1px rgba(60, 64, 67, 0.15);\n",
              "        fill: #174EA6;\n",
              "      }\n",
              "\n",
              "      [theme=dark] .colab-df-generate {\n",
              "        background-color: #3B4455;\n",
              "        fill: #D2E3FC;\n",
              "      }\n",
              "\n",
              "      [theme=dark] .colab-df-generate:hover {\n",
              "        background-color: #434B5C;\n",
              "        box-shadow: 0px 1px 3px 1px rgba(0, 0, 0, 0.15);\n",
              "        filter: drop-shadow(0px 1px 2px rgba(0, 0, 0, 0.3));\n",
              "        fill: #FFFFFF;\n",
              "      }\n",
              "    </style>\n",
              "    <button class=\"colab-df-generate\" onclick=\"generateWithVariable('df')\"\n",
              "            title=\"Generate code using this dataframe.\"\n",
              "            style=\"display:none;\">\n",
              "\n",
              "  <svg xmlns=\"http://www.w3.org/2000/svg\" height=\"24px\"viewBox=\"0 0 24 24\"\n",
              "       width=\"24px\">\n",
              "    <path d=\"M7,19H8.4L18.45,9,17,7.55,7,17.6ZM5,21V16.75L18.45,3.32a2,2,0,0,1,2.83,0l1.4,1.43a1.91,1.91,0,0,1,.58,1.4,1.91,1.91,0,0,1-.58,1.4L9.25,21ZM18.45,9,17,7.55Zm-12,3A5.31,5.31,0,0,0,4.9,8.1,5.31,5.31,0,0,0,1,6.5,5.31,5.31,0,0,0,4.9,4.9,5.31,5.31,0,0,0,6.5,1,5.31,5.31,0,0,0,8.1,4.9,5.31,5.31,0,0,0,12,6.5,5.46,5.46,0,0,0,6.5,12Z\"/>\n",
              "  </svg>\n",
              "    </button>\n",
              "    <script>\n",
              "      (() => {\n",
              "      const buttonEl =\n",
              "        document.querySelector('#id_2984af97-39a7-4495-8aa4-7227849ae7bf button.colab-df-generate');\n",
              "      buttonEl.style.display =\n",
              "        google.colab.kernel.accessAllowed ? 'block' : 'none';\n",
              "\n",
              "      buttonEl.onclick = () => {\n",
              "        google.colab.notebook.generateWithVariable('df');\n",
              "      }\n",
              "      })();\n",
              "    </script>\n",
              "  </div>\n",
              "\n",
              "    </div>\n",
              "  </div>\n"
            ],
            "application/vnd.google.colaboratory.intrinsic+json": {
              "type": "dataframe",
              "variable_name": "df"
            }
          },
          "metadata": {},
          "execution_count": 19
        }
      ],
      "source": [
        "df"
      ]
    },
    {
      "cell_type": "code",
      "execution_count": null,
      "id": "bea721b8",
      "metadata": {
        "colab": {
          "base_uri": "https://localhost:8080/"
        },
        "id": "bea721b8",
        "outputId": "f4cddd9e-950c-47d4-d1e1-9fcb04dd6e5c"
      },
      "outputs": [
        {
          "output_type": "execute_result",
          "data": {
            "text/plain": [
              "array(['CASH_IN', 'PAYMENT', 'CASH_OUT', 'TRANSFER', 'DEBIT'],\n",
              "      dtype=object)"
            ]
          },
          "metadata": {},
          "execution_count": 20
        }
      ],
      "source": [
        "# unque values of coloum type\n",
        "df['type'].unique()"
      ]
    },
    {
      "cell_type": "markdown",
      "source": [
        "Feature Encoding using LabelEncoder"
      ],
      "metadata": {
        "id": "ltC7Dip8ehlG"
      },
      "id": "ltC7Dip8ehlG"
    },
    {
      "cell_type": "code",
      "execution_count": null,
      "id": "4a87ce8a",
      "metadata": {
        "colab": {
          "base_uri": "https://localhost:8080/",
          "height": 423
        },
        "id": "4a87ce8a",
        "outputId": "821b7070-8058-429e-e958-bd331779dd33"
      },
      "outputs": [
        {
          "output_type": "execute_result",
          "data": {
            "text/plain": [
              "         step  type        amount  oldbalanceOrg  oldbalanceDest  isFraud\n",
              "0       330.0     0  501452.04875      268922.50     2346582.525        0\n",
              "1       281.0     3    3473.75000           0.00           0.000        0\n",
              "2       322.0     1   66170.69000       32803.00           0.000        0\n",
              "3       401.0     4  335384.26000         197.00     2346582.525        0\n",
              "4       180.0     0  234392.25000       20882.00           0.000        0\n",
              "...       ...   ...           ...            ...             ...      ...\n",
              "599995  259.0     1  214536.92000        8038.00       78268.570        0\n",
              "599996  353.0     1  261789.26000       86576.05      381514.020        0\n",
              "599997   21.0     1   10186.93000      103123.00       41667.220        0\n",
              "599998  330.0     4  125737.11000           0.00     1013921.690        0\n",
              "599999  233.0     3   11024.42000           0.00           0.000        0\n",
              "\n",
              "[600000 rows x 6 columns]"
            ],
            "text/html": [
              "\n",
              "  <div id=\"df-58eda3a9-fd76-4ab4-85ed-72b573eb3a24\" class=\"colab-df-container\">\n",
              "    <div>\n",
              "<style scoped>\n",
              "    .dataframe tbody tr th:only-of-type {\n",
              "        vertical-align: middle;\n",
              "    }\n",
              "\n",
              "    .dataframe tbody tr th {\n",
              "        vertical-align: top;\n",
              "    }\n",
              "\n",
              "    .dataframe thead th {\n",
              "        text-align: right;\n",
              "    }\n",
              "</style>\n",
              "<table border=\"1\" class=\"dataframe\">\n",
              "  <thead>\n",
              "    <tr style=\"text-align: right;\">\n",
              "      <th></th>\n",
              "      <th>step</th>\n",
              "      <th>type</th>\n",
              "      <th>amount</th>\n",
              "      <th>oldbalanceOrg</th>\n",
              "      <th>oldbalanceDest</th>\n",
              "      <th>isFraud</th>\n",
              "    </tr>\n",
              "  </thead>\n",
              "  <tbody>\n",
              "    <tr>\n",
              "      <th>0</th>\n",
              "      <td>330.0</td>\n",
              "      <td>0</td>\n",
              "      <td>501452.04875</td>\n",
              "      <td>268922.50</td>\n",
              "      <td>2346582.525</td>\n",
              "      <td>0</td>\n",
              "    </tr>\n",
              "    <tr>\n",
              "      <th>1</th>\n",
              "      <td>281.0</td>\n",
              "      <td>3</td>\n",
              "      <td>3473.75000</td>\n",
              "      <td>0.00</td>\n",
              "      <td>0.000</td>\n",
              "      <td>0</td>\n",
              "    </tr>\n",
              "    <tr>\n",
              "      <th>2</th>\n",
              "      <td>322.0</td>\n",
              "      <td>1</td>\n",
              "      <td>66170.69000</td>\n",
              "      <td>32803.00</td>\n",
              "      <td>0.000</td>\n",
              "      <td>0</td>\n",
              "    </tr>\n",
              "    <tr>\n",
              "      <th>3</th>\n",
              "      <td>401.0</td>\n",
              "      <td>4</td>\n",
              "      <td>335384.26000</td>\n",
              "      <td>197.00</td>\n",
              "      <td>2346582.525</td>\n",
              "      <td>0</td>\n",
              "    </tr>\n",
              "    <tr>\n",
              "      <th>4</th>\n",
              "      <td>180.0</td>\n",
              "      <td>0</td>\n",
              "      <td>234392.25000</td>\n",
              "      <td>20882.00</td>\n",
              "      <td>0.000</td>\n",
              "      <td>0</td>\n",
              "    </tr>\n",
              "    <tr>\n",
              "      <th>...</th>\n",
              "      <td>...</td>\n",
              "      <td>...</td>\n",
              "      <td>...</td>\n",
              "      <td>...</td>\n",
              "      <td>...</td>\n",
              "      <td>...</td>\n",
              "    </tr>\n",
              "    <tr>\n",
              "      <th>599995</th>\n",
              "      <td>259.0</td>\n",
              "      <td>1</td>\n",
              "      <td>214536.92000</td>\n",
              "      <td>8038.00</td>\n",
              "      <td>78268.570</td>\n",
              "      <td>0</td>\n",
              "    </tr>\n",
              "    <tr>\n",
              "      <th>599996</th>\n",
              "      <td>353.0</td>\n",
              "      <td>1</td>\n",
              "      <td>261789.26000</td>\n",
              "      <td>86576.05</td>\n",
              "      <td>381514.020</td>\n",
              "      <td>0</td>\n",
              "    </tr>\n",
              "    <tr>\n",
              "      <th>599997</th>\n",
              "      <td>21.0</td>\n",
              "      <td>1</td>\n",
              "      <td>10186.93000</td>\n",
              "      <td>103123.00</td>\n",
              "      <td>41667.220</td>\n",
              "      <td>0</td>\n",
              "    </tr>\n",
              "    <tr>\n",
              "      <th>599998</th>\n",
              "      <td>330.0</td>\n",
              "      <td>4</td>\n",
              "      <td>125737.11000</td>\n",
              "      <td>0.00</td>\n",
              "      <td>1013921.690</td>\n",
              "      <td>0</td>\n",
              "    </tr>\n",
              "    <tr>\n",
              "      <th>599999</th>\n",
              "      <td>233.0</td>\n",
              "      <td>3</td>\n",
              "      <td>11024.42000</td>\n",
              "      <td>0.00</td>\n",
              "      <td>0.000</td>\n",
              "      <td>0</td>\n",
              "    </tr>\n",
              "  </tbody>\n",
              "</table>\n",
              "<p>600000 rows × 6 columns</p>\n",
              "</div>\n",
              "    <div class=\"colab-df-buttons\">\n",
              "\n",
              "  <div class=\"colab-df-container\">\n",
              "    <button class=\"colab-df-convert\" onclick=\"convertToInteractive('df-58eda3a9-fd76-4ab4-85ed-72b573eb3a24')\"\n",
              "            title=\"Convert this dataframe to an interactive table.\"\n",
              "            style=\"display:none;\">\n",
              "\n",
              "  <svg xmlns=\"http://www.w3.org/2000/svg\" height=\"24px\" viewBox=\"0 -960 960 960\">\n",
              "    <path d=\"M120-120v-720h720v720H120Zm60-500h600v-160H180v160Zm220 220h160v-160H400v160Zm0 220h160v-160H400v160ZM180-400h160v-160H180v160Zm440 0h160v-160H620v160ZM180-180h160v-160H180v160Zm440 0h160v-160H620v160Z\"/>\n",
              "  </svg>\n",
              "    </button>\n",
              "\n",
              "  <style>\n",
              "    .colab-df-container {\n",
              "      display:flex;\n",
              "      gap: 12px;\n",
              "    }\n",
              "\n",
              "    .colab-df-convert {\n",
              "      background-color: #E8F0FE;\n",
              "      border: none;\n",
              "      border-radius: 50%;\n",
              "      cursor: pointer;\n",
              "      display: none;\n",
              "      fill: #1967D2;\n",
              "      height: 32px;\n",
              "      padding: 0 0 0 0;\n",
              "      width: 32px;\n",
              "    }\n",
              "\n",
              "    .colab-df-convert:hover {\n",
              "      background-color: #E2EBFA;\n",
              "      box-shadow: 0px 1px 2px rgba(60, 64, 67, 0.3), 0px 1px 3px 1px rgba(60, 64, 67, 0.15);\n",
              "      fill: #174EA6;\n",
              "    }\n",
              "\n",
              "    .colab-df-buttons div {\n",
              "      margin-bottom: 4px;\n",
              "    }\n",
              "\n",
              "    [theme=dark] .colab-df-convert {\n",
              "      background-color: #3B4455;\n",
              "      fill: #D2E3FC;\n",
              "    }\n",
              "\n",
              "    [theme=dark] .colab-df-convert:hover {\n",
              "      background-color: #434B5C;\n",
              "      box-shadow: 0px 1px 3px 1px rgba(0, 0, 0, 0.15);\n",
              "      filter: drop-shadow(0px 1px 2px rgba(0, 0, 0, 0.3));\n",
              "      fill: #FFFFFF;\n",
              "    }\n",
              "  </style>\n",
              "\n",
              "    <script>\n",
              "      const buttonEl =\n",
              "        document.querySelector('#df-58eda3a9-fd76-4ab4-85ed-72b573eb3a24 button.colab-df-convert');\n",
              "      buttonEl.style.display =\n",
              "        google.colab.kernel.accessAllowed ? 'block' : 'none';\n",
              "\n",
              "      async function convertToInteractive(key) {\n",
              "        const element = document.querySelector('#df-58eda3a9-fd76-4ab4-85ed-72b573eb3a24');\n",
              "        const dataTable =\n",
              "          await google.colab.kernel.invokeFunction('convertToInteractive',\n",
              "                                                    [key], {});\n",
              "        if (!dataTable) return;\n",
              "\n",
              "        const docLinkHtml = 'Like what you see? Visit the ' +\n",
              "          '<a target=\"_blank\" href=https://colab.research.google.com/notebooks/data_table.ipynb>data table notebook</a>'\n",
              "          + ' to learn more about interactive tables.';\n",
              "        element.innerHTML = '';\n",
              "        dataTable['output_type'] = 'display_data';\n",
              "        await google.colab.output.renderOutput(dataTable, element);\n",
              "        const docLink = document.createElement('div');\n",
              "        docLink.innerHTML = docLinkHtml;\n",
              "        element.appendChild(docLink);\n",
              "      }\n",
              "    </script>\n",
              "  </div>\n",
              "\n",
              "\n",
              "<div id=\"df-67e74e2d-0867-41e3-b5f3-6afa186e8a71\">\n",
              "  <button class=\"colab-df-quickchart\" onclick=\"quickchart('df-67e74e2d-0867-41e3-b5f3-6afa186e8a71')\"\n",
              "            title=\"Suggest charts\"\n",
              "            style=\"display:none;\">\n",
              "\n",
              "<svg xmlns=\"http://www.w3.org/2000/svg\" height=\"24px\"viewBox=\"0 0 24 24\"\n",
              "     width=\"24px\">\n",
              "    <g>\n",
              "        <path d=\"M19 3H5c-1.1 0-2 .9-2 2v14c0 1.1.9 2 2 2h14c1.1 0 2-.9 2-2V5c0-1.1-.9-2-2-2zM9 17H7v-7h2v7zm4 0h-2V7h2v10zm4 0h-2v-4h2v4z\"/>\n",
              "    </g>\n",
              "</svg>\n",
              "  </button>\n",
              "\n",
              "<style>\n",
              "  .colab-df-quickchart {\n",
              "      --bg-color: #E8F0FE;\n",
              "      --fill-color: #1967D2;\n",
              "      --hover-bg-color: #E2EBFA;\n",
              "      --hover-fill-color: #174EA6;\n",
              "      --disabled-fill-color: #AAA;\n",
              "      --disabled-bg-color: #DDD;\n",
              "  }\n",
              "\n",
              "  [theme=dark] .colab-df-quickchart {\n",
              "      --bg-color: #3B4455;\n",
              "      --fill-color: #D2E3FC;\n",
              "      --hover-bg-color: #434B5C;\n",
              "      --hover-fill-color: #FFFFFF;\n",
              "      --disabled-bg-color: #3B4455;\n",
              "      --disabled-fill-color: #666;\n",
              "  }\n",
              "\n",
              "  .colab-df-quickchart {\n",
              "    background-color: var(--bg-color);\n",
              "    border: none;\n",
              "    border-radius: 50%;\n",
              "    cursor: pointer;\n",
              "    display: none;\n",
              "    fill: var(--fill-color);\n",
              "    height: 32px;\n",
              "    padding: 0;\n",
              "    width: 32px;\n",
              "  }\n",
              "\n",
              "  .colab-df-quickchart:hover {\n",
              "    background-color: var(--hover-bg-color);\n",
              "    box-shadow: 0 1px 2px rgba(60, 64, 67, 0.3), 0 1px 3px 1px rgba(60, 64, 67, 0.15);\n",
              "    fill: var(--button-hover-fill-color);\n",
              "  }\n",
              "\n",
              "  .colab-df-quickchart-complete:disabled,\n",
              "  .colab-df-quickchart-complete:disabled:hover {\n",
              "    background-color: var(--disabled-bg-color);\n",
              "    fill: var(--disabled-fill-color);\n",
              "    box-shadow: none;\n",
              "  }\n",
              "\n",
              "  .colab-df-spinner {\n",
              "    border: 2px solid var(--fill-color);\n",
              "    border-color: transparent;\n",
              "    border-bottom-color: var(--fill-color);\n",
              "    animation:\n",
              "      spin 1s steps(1) infinite;\n",
              "  }\n",
              "\n",
              "  @keyframes spin {\n",
              "    0% {\n",
              "      border-color: transparent;\n",
              "      border-bottom-color: var(--fill-color);\n",
              "      border-left-color: var(--fill-color);\n",
              "    }\n",
              "    20% {\n",
              "      border-color: transparent;\n",
              "      border-left-color: var(--fill-color);\n",
              "      border-top-color: var(--fill-color);\n",
              "    }\n",
              "    30% {\n",
              "      border-color: transparent;\n",
              "      border-left-color: var(--fill-color);\n",
              "      border-top-color: var(--fill-color);\n",
              "      border-right-color: var(--fill-color);\n",
              "    }\n",
              "    40% {\n",
              "      border-color: transparent;\n",
              "      border-right-color: var(--fill-color);\n",
              "      border-top-color: var(--fill-color);\n",
              "    }\n",
              "    60% {\n",
              "      border-color: transparent;\n",
              "      border-right-color: var(--fill-color);\n",
              "    }\n",
              "    80% {\n",
              "      border-color: transparent;\n",
              "      border-right-color: var(--fill-color);\n",
              "      border-bottom-color: var(--fill-color);\n",
              "    }\n",
              "    90% {\n",
              "      border-color: transparent;\n",
              "      border-bottom-color: var(--fill-color);\n",
              "    }\n",
              "  }\n",
              "</style>\n",
              "\n",
              "  <script>\n",
              "    async function quickchart(key) {\n",
              "      const quickchartButtonEl =\n",
              "        document.querySelector('#' + key + ' button');\n",
              "      quickchartButtonEl.disabled = true;  // To prevent multiple clicks.\n",
              "      quickchartButtonEl.classList.add('colab-df-spinner');\n",
              "      try {\n",
              "        const charts = await google.colab.kernel.invokeFunction(\n",
              "            'suggestCharts', [key], {});\n",
              "      } catch (error) {\n",
              "        console.error('Error during call to suggestCharts:', error);\n",
              "      }\n",
              "      quickchartButtonEl.classList.remove('colab-df-spinner');\n",
              "      quickchartButtonEl.classList.add('colab-df-quickchart-complete');\n",
              "    }\n",
              "    (() => {\n",
              "      let quickchartButtonEl =\n",
              "        document.querySelector('#df-67e74e2d-0867-41e3-b5f3-6afa186e8a71 button');\n",
              "      quickchartButtonEl.style.display =\n",
              "        google.colab.kernel.accessAllowed ? 'block' : 'none';\n",
              "    })();\n",
              "  </script>\n",
              "</div>\n",
              "\n",
              "  <div id=\"id_501fd7d4-3580-4517-9a9e-00b9e8e5db47\">\n",
              "    <style>\n",
              "      .colab-df-generate {\n",
              "        background-color: #E8F0FE;\n",
              "        border: none;\n",
              "        border-radius: 50%;\n",
              "        cursor: pointer;\n",
              "        display: none;\n",
              "        fill: #1967D2;\n",
              "        height: 32px;\n",
              "        padding: 0 0 0 0;\n",
              "        width: 32px;\n",
              "      }\n",
              "\n",
              "      .colab-df-generate:hover {\n",
              "        background-color: #E2EBFA;\n",
              "        box-shadow: 0px 1px 2px rgba(60, 64, 67, 0.3), 0px 1px 3px 1px rgba(60, 64, 67, 0.15);\n",
              "        fill: #174EA6;\n",
              "      }\n",
              "\n",
              "      [theme=dark] .colab-df-generate {\n",
              "        background-color: #3B4455;\n",
              "        fill: #D2E3FC;\n",
              "      }\n",
              "\n",
              "      [theme=dark] .colab-df-generate:hover {\n",
              "        background-color: #434B5C;\n",
              "        box-shadow: 0px 1px 3px 1px rgba(0, 0, 0, 0.15);\n",
              "        filter: drop-shadow(0px 1px 2px rgba(0, 0, 0, 0.3));\n",
              "        fill: #FFFFFF;\n",
              "      }\n",
              "    </style>\n",
              "    <button class=\"colab-df-generate\" onclick=\"generateWithVariable('df')\"\n",
              "            title=\"Generate code using this dataframe.\"\n",
              "            style=\"display:none;\">\n",
              "\n",
              "  <svg xmlns=\"http://www.w3.org/2000/svg\" height=\"24px\"viewBox=\"0 0 24 24\"\n",
              "       width=\"24px\">\n",
              "    <path d=\"M7,19H8.4L18.45,9,17,7.55,7,17.6ZM5,21V16.75L18.45,3.32a2,2,0,0,1,2.83,0l1.4,1.43a1.91,1.91,0,0,1,.58,1.4,1.91,1.91,0,0,1-.58,1.4L9.25,21ZM18.45,9,17,7.55Zm-12,3A5.31,5.31,0,0,0,4.9,8.1,5.31,5.31,0,0,0,1,6.5,5.31,5.31,0,0,0,4.9,4.9,5.31,5.31,0,0,0,6.5,1,5.31,5.31,0,0,0,8.1,4.9,5.31,5.31,0,0,0,12,6.5,5.46,5.46,0,0,0,6.5,12Z\"/>\n",
              "  </svg>\n",
              "    </button>\n",
              "    <script>\n",
              "      (() => {\n",
              "      const buttonEl =\n",
              "        document.querySelector('#id_501fd7d4-3580-4517-9a9e-00b9e8e5db47 button.colab-df-generate');\n",
              "      buttonEl.style.display =\n",
              "        google.colab.kernel.accessAllowed ? 'block' : 'none';\n",
              "\n",
              "      buttonEl.onclick = () => {\n",
              "        google.colab.notebook.generateWithVariable('df');\n",
              "      }\n",
              "      })();\n",
              "    </script>\n",
              "  </div>\n",
              "\n",
              "    </div>\n",
              "  </div>\n"
            ],
            "application/vnd.google.colaboratory.intrinsic+json": {
              "type": "dataframe",
              "variable_name": "df"
            }
          },
          "metadata": {},
          "execution_count": 21
        }
      ],
      "source": [
        "from sklearn.preprocessing import LabelEncoder\n",
        "le = LabelEncoder()\n",
        "df['type'] = le.fit_transform(df['type'])\n",
        "df"
      ]
    },
    {
      "cell_type": "code",
      "execution_count": null,
      "id": "49e9f963",
      "metadata": {
        "colab": {
          "base_uri": "https://localhost:8080/"
        },
        "id": "49e9f963",
        "outputId": "466c63d2-d418-4ee1-d251-e5eb312a568f"
      },
      "outputs": [
        {
          "output_type": "execute_result",
          "data": {
            "text/plain": [
              "array([0, 3, 1, 4, 2])"
            ]
          },
          "metadata": {},
          "execution_count": 22
        }
      ],
      "source": [
        "df['type'].unique()"
      ]
    },
    {
      "cell_type": "code",
      "execution_count": null,
      "id": "g1hwp3Me99ZU",
      "metadata": {
        "colab": {
          "base_uri": "https://localhost:8080/",
          "height": 272
        },
        "id": "g1hwp3Me99ZU",
        "outputId": "8c5fed4b-8080-4fdc-f9be-3b0563325288"
      },
      "outputs": [
        {
          "output_type": "execute_result",
          "data": {
            "text/plain": [
              "step              0\n",
              "type              0\n",
              "amount            0\n",
              "oldbalanceOrg     0\n",
              "oldbalanceDest    0\n",
              "isFraud           0\n",
              "dtype: int64"
            ],
            "text/html": [
              "<div>\n",
              "<style scoped>\n",
              "    .dataframe tbody tr th:only-of-type {\n",
              "        vertical-align: middle;\n",
              "    }\n",
              "\n",
              "    .dataframe tbody tr th {\n",
              "        vertical-align: top;\n",
              "    }\n",
              "\n",
              "    .dataframe thead th {\n",
              "        text-align: right;\n",
              "    }\n",
              "</style>\n",
              "<table border=\"1\" class=\"dataframe\">\n",
              "  <thead>\n",
              "    <tr style=\"text-align: right;\">\n",
              "      <th></th>\n",
              "      <th>0</th>\n",
              "    </tr>\n",
              "  </thead>\n",
              "  <tbody>\n",
              "    <tr>\n",
              "      <th>step</th>\n",
              "      <td>0</td>\n",
              "    </tr>\n",
              "    <tr>\n",
              "      <th>type</th>\n",
              "      <td>0</td>\n",
              "    </tr>\n",
              "    <tr>\n",
              "      <th>amount</th>\n",
              "      <td>0</td>\n",
              "    </tr>\n",
              "    <tr>\n",
              "      <th>oldbalanceOrg</th>\n",
              "      <td>0</td>\n",
              "    </tr>\n",
              "    <tr>\n",
              "      <th>oldbalanceDest</th>\n",
              "      <td>0</td>\n",
              "    </tr>\n",
              "    <tr>\n",
              "      <th>isFraud</th>\n",
              "      <td>0</td>\n",
              "    </tr>\n",
              "  </tbody>\n",
              "</table>\n",
              "</div><br><label><b>dtype:</b> int64</label>"
            ]
          },
          "metadata": {},
          "execution_count": 23
        }
      ],
      "source": [
        "df.isnull().sum()"
      ]
    },
    {
      "cell_type": "markdown",
      "id": "pf7M8BcKl2a5",
      "metadata": {
        "id": "pf7M8BcKl2a5"
      },
      "source": [
        "</ul>"
      ]
    },
    {
      "cell_type": "markdown",
      "id": "dRk-NITal8tI",
      "metadata": {
        "id": "dRk-NITal8tI"
      },
      "source": [
        "# <u> Machine Learning By Mostafa Sobhy </ul>"
      ]
    },
    {
      "cell_type": "markdown",
      "id": "5yJw_5B_pHfz",
      "metadata": {
        "id": "5yJw_5B_pHfz"
      },
      "source": [
        "* ## <u>Import important library</u>"
      ]
    },
    {
      "cell_type": "code",
      "execution_count": null,
      "id": "y5OtEMpfrAm5",
      "metadata": {
        "id": "y5OtEMpfrAm5"
      },
      "outputs": [],
      "source": [
        "import numpy as np\n",
        "import pandas as pd\n",
        "import matplotlib.pyplot as plt\n",
        "import seaborn as sns"
      ]
    },
    {
      "cell_type": "markdown",
      "id": "fPh9KBEFrFNw",
      "metadata": {
        "id": "fPh9KBEFrFNw"
      },
      "source": [
        "* ## <u>Feature Scaling Apply minMax scaler</u>"
      ]
    },
    {
      "cell_type": "code",
      "execution_count": null,
      "id": "XhMnOUMtrX_M",
      "metadata": {
        "id": "XhMnOUMtrX_M"
      },
      "outputs": [],
      "source": [
        "#applay minMax scaler\n",
        "\n",
        "from sklearn.preprocessing import MinMaxScaler\n",
        "\n",
        "# Assuming 'df' is your DataFrame and you want to scale numerical features\n",
        "numerical_features = ['step', 'amount', 'oldbalanceOrg', 'oldbalanceDest']\n",
        "\n",
        "# Create a MinMaxScaler object\n",
        "scaler = MinMaxScaler()\n",
        "\n",
        "# Fit and transform the selected numerical features\n",
        "df[numerical_features] = scaler.fit_transform(df[numerical_features])\n",
        "\n",
        "# Now your specified columns are scaled between 0 and 1"
      ]
    },
    {
      "cell_type": "markdown",
      "id": "Pu_Zf8vDpHRN",
      "metadata": {
        "id": "Pu_Zf8vDpHRN"
      },
      "source": [
        "* ## <u>Handling Un-Balanced Data by Oversampling using SMOTE</u>"
      ]
    },
    {
      "cell_type": "code",
      "execution_count": null,
      "id": "A2S84y5wrbvY",
      "metadata": {
        "id": "A2S84y5wrbvY"
      },
      "outputs": [],
      "source": [
        "x = df.drop([\"isFraud\"] , axis=1)\n",
        "y = df[\"isFraud\"]"
      ]
    },
    {
      "cell_type": "code",
      "execution_count": null,
      "id": "xWXdMyvvrduW",
      "metadata": {
        "colab": {
          "base_uri": "https://localhost:8080/"
        },
        "id": "xWXdMyvvrduW",
        "outputId": "388abc0a-57d6-4c4b-b493-01693f7ce0cd"
      },
      "outputs": [
        {
          "output_type": "display_data",
          "data": {
            "text/plain": [
              "<Figure size 600x400 with 1 Axes>"
            ],
            "image/png": "[encoded data removed]"
          },
          "metadata": {}
        }
      ],
      "source": [
        "# Visualize the class distribution\n",
        "\n",
        "plt.figure(figsize=(6, 4))\n",
        "sns.countplot(x='isFraud', data=df)\n",
        "plt.title('isFraud')\n",
        "plt.xlabel('isFraud')\n",
        "plt.ylabel('Count')\n",
        "plt.show()"
      ]
    },
    {
      "cell_type": "code",
      "execution_count": null,
      "id": "E1mx45ogrfp3",
      "metadata": {
        "id": "E1mx45ogrfp3"
      },
      "outputs": [],
      "source": [
        "from imblearn.over_sampling import SMOTE\n",
        "\n",
        "# Apply SMOTE\n",
        "\n",
        "smote = SMOTE(random_state=42)\n",
        "x_resampled, y_resampled = smote.fit_resample(x, y)"
      ]
    },
    {
      "cell_type": "code",
      "execution_count": null,
      "id": "amzUSK_8rhNC",
      "metadata": {
        "id": "amzUSK_8rhNC"
      },
      "outputs": [],
      "source": [
        "# Resample Data\n",
        "\n",
        "# Create a new DataFrame with resampled data\n",
        "df_resampled = pd.concat([pd.DataFrame(x_resampled), pd.DataFrame(y_resampled, columns=['isFraud'])], axis=1)\n",
        "\n",
        "# Check the class distribution after oversampling\n",
        "isFraud_resampled = df_resampled['isFraud'].value_counts()"
      ]
    },
    {
      "cell_type": "code",
      "execution_count": null,
      "id": "aMsER29nrifp",
      "metadata": {
        "colab": {
          "base_uri": "https://localhost:8080/"
        },
        "id": "aMsER29nrifp",
        "outputId": "3e08f8e3-775d-4276-f2a6-84294c38fe99"
      },
      "outputs": [
        {
          "output_type": "display_data",
          "data": {
            "text/plain": [
              "<Figure size 600x400 with 1 Axes>"
            ],
            "image/png": "[encoded data removed]"
          },
          "metadata": {}
        }
      ],
      "source": [
        "# Visualize the class distribution after oversampling\n",
        "\n",
        "plt.figure(figsize=(6, 4))\n",
        "sns.countplot(x='isFraud', data=df_resampled)\n",
        "plt.title('isFraud After Oversampling')\n",
        "plt.xlabel('isFraud')\n",
        "plt.ylabel('Count')\n",
        "plt.show()"
      ]
    },
    {
      "cell_type": "markdown",
      "id": "9SzejyAupHDt",
      "metadata": {
        "id": "9SzejyAupHDt"
      },
      "source": [
        "* ## <u>Spilting Data</u>"
      ]
    },
    {
      "cell_type": "code",
      "execution_count": null,
      "id": "LkufSVr2rlQQ",
      "metadata": {
        "id": "LkufSVr2rlQQ"
      },
      "outputs": [],
      "source": [
        "# Separate features and target variable\n",
        "x = df_resampled.drop('isFraud', axis=1)\n",
        "y = df_resampled['isFraud']"
      ]
    },
    {
      "cell_type": "markdown",
      "id": "oKTe44sgpG2E",
      "metadata": {
        "id": "oKTe44sgpG2E"
      },
      "source": [
        "* ## <u>Feature Engineering</u>"
      ]
    },
    {
      "cell_type": "code",
      "execution_count": null,
      "id": "zNSseXAcsJag",
      "metadata": {
        "id": "zNSseXAcsJag"
      },
      "outputs": [],
      "source": [
        "#raining a Random Forest classifier and displaying the feature importances\n",
        "\n",
        "from sklearn.ensemble import RandomForestClassifier\n",
        "\n",
        "rf_model = RandomForestClassifier(random_state=42)\n",
        "rf_model.fit(x, y)\n",
        "feature_importances = rf_model.feature_importances_"
      ]
    },
    {
      "cell_type": "code",
      "execution_count": null,
      "id": "7-4j65d0sNJI",
      "metadata": {
        "colab": {
          "base_uri": "https://localhost:8080/"
        },
        "id": "7-4j65d0sNJI",
        "outputId": "644acbb0-4591-400b-d749-1d65317625a2"
      },
      "outputs": [
        {
          "output_type": "stream",
          "name": "stdout",
          "text": [
            "          Feature  Importance\n",
            "2          amount    0.275720\n",
            "3   oldbalanceOrg    0.274244\n",
            "1            type    0.243252\n",
            "0            step    0.131988\n",
            "4  oldbalanceDest    0.074796\n"
          ]
        }
      ],
      "source": [
        "# Create a DataFrame to display feature importances\n",
        "\n",
        "feature_importance_df = pd.DataFrame({'Feature': x.columns, 'Importance': feature_importances})\n",
        "feature_importance_df = feature_importance_df.sort_values(by='Importance', ascending=False)\n",
        "\n",
        "# Print the feature importance DataFrame\n",
        "\n",
        "print(feature_importance_df)"
      ]
    },
    {
      "cell_type": "code",
      "execution_count": null,
      "id": "CXeVF7CWs5Co",
      "metadata": {
        "colab": {
          "base_uri": "https://localhost:8080/",
          "height": 564
        },
        "id": "CXeVF7CWs5Co",
        "outputId": "f31e9c70-36b6-441d-89d1-5fa65d4825b8"
      },
      "outputs": [
        {
          "output_type": "display_data",
          "data": {
            "text/plain": [
              "<Figure size 1000x600 with 1 Axes>"
            ],
            "image/png": "[encoded data removed]"
          },
          "metadata": {}
        }
      ],
      "source": [
        "# Plot feature importances\n",
        "\n",
        "plt.figure(figsize=(10, 6))\n",
        "sns.barplot(x='Importance', y='Feature', data=feature_importance_df)\n",
        "plt.title('Feature Importance')\n",
        "plt.xlabel('Importance')\n",
        "plt.ylabel('Feature')\n",
        "plt.show()"
      ]
    },
    {
      "cell_type": "markdown",
      "id": "ht95xcmApGnk",
      "metadata": {
        "id": "ht95xcmApGnk"
      },
      "source": [
        "* ## <u>train_test_split</u>"
      ]
    },
    {
      "cell_type": "code",
      "execution_count": null,
      "id": "C43ZcIsCs7Qk",
      "metadata": {
        "id": "C43ZcIsCs7Qk"
      },
      "outputs": [],
      "source": [
        "from sklearn.model_selection import train_test_split\n",
        "\n",
        "x_train, x_test, y_train, y_test = train_test_split(x, y, test_size=0.2, random_state=42)"
      ]
    },
    {
      "cell_type": "markdown",
      "id": "Ozo8v1xApGZz",
      "metadata": {
        "id": "Ozo8v1xApGZz"
      },
      "source": [
        "* ## <u>Storing Model Data for visualization and Compare  </u>"
      ]
    },
    {
      "cell_type": "code",
      "execution_count": null,
      "id": "PXaLyeDDtFgs",
      "metadata": {
        "id": "PXaLyeDDtFgs"
      },
      "outputs": [],
      "source": [
        "Model_Name_all = [\"LogisticRegression\"  , \"DecisionTreeClassifier\" , \"RandomForestClassifier\" , \"GradientBoostingClassifier\" , \"KNeighborsClassifier\"]\n",
        "accuracy_all = []\n",
        "recall_all = []\n",
        "f1_all = []\n",
        "precision_all = []"
      ]
    },
    {
      "cell_type": "markdown",
      "id": "TxcAftQbpGHw",
      "metadata": {
        "id": "TxcAftQbpGHw"
      },
      "source": [
        "* ## <u>Import Models</u>"
      ]
    },
    {
      "cell_type": "code",
      "execution_count": null,
      "id": "MJlDMheFtIaM",
      "metadata": {
        "id": "MJlDMheFtIaM"
      },
      "outputs": [],
      "source": [
        "from sklearn.linear_model import LogisticRegression\n",
        "from sklearn.tree import DecisionTreeClassifier\n",
        "from sklearn.ensemble import RandomForestClassifier\n",
        "from sklearn.ensemble import GradientBoostingClassifier\n",
        "from sklearn.neighbors import KNeighborsClassifier\n",
        "\n",
        "from sklearn.metrics import accuracy_score , recall_score , f1_score , precision_score ,confusion_matrix , classification_report"
      ]
    },
    {
      "cell_type": "markdown",
      "id": "LRjOruErpF4F",
      "metadata": {
        "id": "LRjOruErpF4F"
      },
      "source": [
        "* ## <u>LogisticRegression Model</u>"
      ]
    },
    {
      "cell_type": "code",
      "execution_count": null,
      "id": "10B4XJGutMDc",
      "metadata": {
        "colab": {
          "base_uri": "https://localhost:8080/"
        },
        "id": "10B4XJGutMDc",
        "outputId": "693419af-a418-4880-d34a-7d41031593b9"
      },
      "outputs": [
        {
          "output_type": "execute_result",
          "data": {
            "text/plain": [
              "array([[0.84672831, 0.15327169],\n",
              "       [0.74463712, 0.25536288],\n",
              "       [0.65643104, 0.34356896],\n",
              "       ...,\n",
              "       [0.03586368, 0.96413632],\n",
              "       [0.32153741, 0.67846259],\n",
              "       [0.67687826, 0.32312174]])"
            ]
          },
          "metadata": {},
          "execution_count": 38
        }
      ],
      "source": [
        "# Train Model\n",
        "model_lg = LogisticRegression()\n",
        "model_lg.fit(x_train, y_train)\n",
        "model_lg.score(x_train, y_train)\n",
        "y_pred_lg = model_lg.predict(x_test)\n",
        "model_lg.predict_proba(x_test)"
      ]
    },
    {
      "cell_type": "code",
      "execution_count": null,
      "id": "sm4AOiRttRdQ",
      "metadata": {
        "colab": {
          "base_uri": "https://localhost:8080/"
        },
        "id": "sm4AOiRttRdQ",
        "outputId": "cb4f1476-2fe6-4d15-b3de-ddece35c0e46"
      },
      "outputs": [
        {
          "output_type": "stream",
          "name": "stdout",
          "text": [
            "Accuracy Score Is: 0.8228461763110685\n",
            "Recall Score Is: 0.7868363192522801\n",
            "F1 Score Is: 0.8159427828348504\n",
            "Precision Score Is: 0.8472853631968889\n",
            "LogisticRegression Report Is:\n",
            "               precision    recall  f1-score   support\n",
            "\n",
            "           0       0.80      0.86      0.83    120073\n",
            "           1       0.85      0.79      0.82    119617\n",
            "\n",
            "    accuracy                           0.82    239690\n",
            "   macro avg       0.82      0.82      0.82    239690\n",
            "weighted avg       0.82      0.82      0.82    239690\n",
            "\n"
          ]
        },
        {
          "output_type": "display_data",
          "data": {
            "text/plain": [
              "<Figure size 2000x500 with 2 Axes>"
            ],
            "image/png": "[encoded data removed]"
          },
          "metadata": {}
        }
      ],
      "source": [
        "# Evaluate the model\n",
        "accuracy_lg = accuracy_score(y_test, y_pred_lg)\n",
        "precision_lg = precision_score(y_test, y_pred_lg)\n",
        "recall_lg = recall_score(y_test, y_pred_lg)\n",
        "f1_lg = f1_score(y_test, y_pred_lg)\n",
        "confusion_lg = confusion_matrix(y_test, y_pred_lg)\n",
        "report_lg = classification_report(y_test, y_pred_lg)\n",
        "\n",
        "plt.figure(figsize=(20,5))\n",
        "sns.heatmap(confusion_matrix(y_pred_lg , y_test) , annot=True , cmap=\"YlGnBu\")\n",
        "print(\"Accuracy Score Is:\" , accuracy_lg)\n",
        "print(\"Recall Score Is:\" , recall_lg)\n",
        "print(\"F1 Score Is:\", f1_lg)\n",
        "print(\"Precision Score Is:\" , precision_lg)\n",
        "print(\"LogisticRegression Report Is:\\n\" , report_lg)\n",
        "plt.show()"
      ]
    },
    {
      "cell_type": "code",
      "execution_count": null,
      "id": "3sxBKGIRtTXP",
      "metadata": {
        "id": "3sxBKGIRtTXP"
      },
      "outputs": [],
      "source": [
        "# storing model data\n",
        "accuracy_all.append(accuracy_lg)\n",
        "recall_all.append(recall_lg)\n",
        "f1_all.append(f1_lg)\n",
        "precision_all.append(precision_lg)"
      ]
    },
    {
      "cell_type": "code",
      "execution_count": null,
      "id": "YHU858iItXAV",
      "metadata": {
        "colab": {
          "base_uri": "https://localhost:8080/"
        },
        "id": "YHU858iItXAV",
        "outputId": "3ee165e2-0028-430c-e6ca-056d218f1d93"
      },
      "outputs": [
        {
          "output_type": "stream",
          "name": "stdout",
          "text": [
            "Optimization terminated successfully.\n",
            "         Current function value: 0.409855\n",
            "         Iterations 7\n",
            "                           Logit Regression Results                           \n",
            "==============================================================================\n",
            "Dep. Variable:                isFraud   No. Observations:               958758\n",
            "Model:                          Logit   Df Residuals:                   958752\n",
            "Method:                           MLE   Df Model:                            5\n",
            "Date:                Thu, 19 Dec 2024   Pseudo R-squ.:                  0.4087\n",
            "Time:                        23:31:11   Log-Likelihood:            -3.9295e+05\n",
            "converged:                       True   LL-Null:                   -6.6456e+05\n",
            "Covariance Type:            nonrobust   LLR p-value:                     0.000\n",
            "==================================================================================\n",
            "                     coef    std err          z      P>|z|      [0.025      0.975]\n",
            "----------------------------------------------------------------------------------\n",
            "const             -3.9734      0.010   -414.182      0.000      -3.992      -3.955\n",
            "step               2.7316      0.010    261.453      0.000       2.711       2.752\n",
            "type               0.4407      0.002    200.923      0.000       0.436       0.445\n",
            "amount             1.9812      0.009    211.127      0.000       1.963       2.000\n",
            "oldbalanceOrg      2.4087      0.008    296.898      0.000       2.393       2.425\n",
            "oldbalanceDest    -1.4645      0.010   -147.436      0.000      -1.484      -1.445\n",
            "==================================================================================\n"
          ]
        }
      ],
      "source": [
        "import statsmodels.api as sm\n",
        "\n",
        "x_train_with_constant = sm.add_constant(x_train)\n",
        "\n",
        "# Fit the logistic regression model\n",
        "logit_model = sm.Logit(y_train, x_train_with_constant).fit()\n",
        "\n",
        "# Print the model summary\n",
        "print(logit_model.summary())"
      ]
    },
    {
      "cell_type": "markdown",
      "id": "H2pHtmgQpFpr",
      "metadata": {
        "id": "H2pHtmgQpFpr"
      },
      "source": [
        "* ## <u>DecisionTreeClassifier Model</u>"
      ]
    },
    {
      "cell_type": "code",
      "execution_count": null,
      "id": "CZ7AoU5xtZ9u",
      "metadata": {
        "colab": {
          "base_uri": "https://localhost:8080/"
        },
        "id": "CZ7AoU5xtZ9u",
        "outputId": "6877d0f9-9cbc-4b0e-8fb1-57db9bb7c89c"
      },
      "outputs": [
        {
          "output_type": "execute_result",
          "data": {
            "text/plain": [
              "array([[1., 0.],\n",
              "       [1., 0.],\n",
              "       [1., 0.],\n",
              "       ...,\n",
              "       [0., 1.],\n",
              "       [1., 0.],\n",
              "       [1., 0.]])"
            ]
          },
          "metadata": {},
          "execution_count": 42
        }
      ],
      "source": [
        "# Train Model\n",
        "model_dt = DecisionTreeClassifier(random_state=42)\n",
        "model_dt.fit(x_train, y_train)\n",
        "model_dt.score(x_train, y_train)\n",
        "y_pred_dt = model_dt.predict(x_test)\n",
        "model_dt.predict_proba(x_test)"
      ]
    },
    {
      "cell_type": "code",
      "execution_count": null,
      "id": "UOcbFvK3tcYq",
      "metadata": {
        "colab": {
          "base_uri": "https://localhost:8080/"
        },
        "id": "UOcbFvK3tcYq",
        "outputId": "9c008a02-d416-4462-961b-46f34be91996"
      },
      "outputs": [
        {
          "output_type": "stream",
          "name": "stdout",
          "text": [
            "Accuracy Score Is: 0.9982685969377112\n",
            "Recall Score Is: 0.9989048379410953\n",
            "F1 Score Is: 0.9982664054439047\n",
            "Precision Score Is: 0.9976287885113133\n",
            "DecisionTree Report Is:\n",
            "               precision    recall  f1-score   support\n",
            "\n",
            "           0       1.00      1.00      1.00    120073\n",
            "           1       1.00      1.00      1.00    119617\n",
            "\n",
            "    accuracy                           1.00    239690\n",
            "   macro avg       1.00      1.00      1.00    239690\n",
            "weighted avg       1.00      1.00      1.00    239690\n",
            "\n"
          ]
        },
        {
          "output_type": "display_data",
          "data": {
            "text/plain": [
              "<Figure size 2000x500 with 2 Axes>"
            ],
            "image/png": "[encoded data removed]"
          },
          "metadata": {}
        }
      ],
      "source": [
        "# Evaluate the model\n",
        "accuracy_dt = accuracy_score(y_test, y_pred_dt)\n",
        "precision_dt = precision_score(y_test, y_pred_dt)\n",
        "recall_dt = recall_score(y_test, y_pred_dt)\n",
        "f1_dt = f1_score(y_test, y_pred_dt)\n",
        "confusion_dt = confusion_matrix(y_test, y_pred_dt)\n",
        "report_dt = classification_report(y_test, y_pred_dt)\n",
        "\n",
        "plt.figure(figsize=(20,5))\n",
        "sns.heatmap(confusion_matrix(y_pred_dt , y_test) , annot=True , cmap=\"YlGnBu\")\n",
        "print(\"Accuracy Score Is:\" , accuracy_dt)\n",
        "print(\"Recall Score Is:\" , recall_dt)\n",
        "print(\"F1 Score Is:\", f1_dt)\n",
        "print(\"Precision Score Is:\" , precision_dt)\n",
        "print(\"DecisionTree Report Is:\\n\" , report_dt)\n",
        "plt.show()"
      ]
    },
    {
      "cell_type": "code",
      "execution_count": null,
      "id": "ztjOg1IXtdyp",
      "metadata": {
        "id": "ztjOg1IXtdyp"
      },
      "outputs": [],
      "source": [
        "# storing model data\n",
        "accuracy_all.append(accuracy_dt)\n",
        "recall_all.append(recall_dt)\n",
        "f1_all.append(f1_dt)\n",
        "precision_all.append(precision_dt)"
      ]
    },
    {
      "cell_type": "markdown",
      "id": "-DQ8qq52pFeL",
      "metadata": {
        "id": "-DQ8qq52pFeL"
      },
      "source": [
        "* ## <u>RandomForestClassifier Model</u>"
      ]
    },
    {
      "cell_type": "code",
      "execution_count": null,
      "id": "Jg_76y64teRm",
      "metadata": {
        "id": "Jg_76y64teRm",
        "colab": {
          "base_uri": "https://localhost:8080/"
        },
        "outputId": "68339e98-ad4b-4908-8d7f-a13a3556cca8"
      },
      "outputs": [
        {
          "output_type": "execute_result",
          "data": {
            "text/plain": [
              "array([[1., 0.],\n",
              "       [1., 0.],\n",
              "       [1., 0.],\n",
              "       ...,\n",
              "       [0., 1.],\n",
              "       [1., 0.],\n",
              "       [1., 0.]])"
            ]
          },
          "metadata": {},
          "execution_count": 45
        }
      ],
      "source": [
        "# Train Model\n",
        "model_RanF = RandomForestClassifier(random_state=42)\n",
        "model_RanF.fit(x_train, y_train)\n",
        "model_RanF.score(x_train, y_train)\n",
        "y_pred_RanF = model_RanF.predict(x_test)\n",
        "model_RanF.predict_proba(x_test)"
      ]
    },
    {
      "cell_type": "code",
      "execution_count": null,
      "id": "91-pUj1Ttg4W",
      "metadata": {
        "id": "91-pUj1Ttg4W",
        "colab": {
          "base_uri": "https://localhost:8080/",
          "height": 688
        },
        "outputId": "17c35b3d-260b-489e-eecc-246521ef1a24"
      },
      "outputs": [
        {
          "output_type": "stream",
          "name": "stdout",
          "text": [
            "Accuracy Score Is: 0.9988902332179065\n",
            "Recall Score Is: 0.9997324794970615\n",
            "F1 Score Is: 0.9988890559481448\n",
            "Precision Score Is: 0.9980470543069129\n",
            "RandomForest Report Is:\n",
            "               precision    recall  f1-score   support\n",
            "\n",
            "           0       1.00      1.00      1.00    120073\n",
            "           1       1.00      1.00      1.00    119617\n",
            "\n",
            "    accuracy                           1.00    239690\n",
            "   macro avg       1.00      1.00      1.00    239690\n",
            "weighted avg       1.00      1.00      1.00    239690\n",
            "\n"
          ]
        },
        {
          "output_type": "display_data",
          "data": {
            "text/plain": [
              "<Figure size 2000x500 with 2 Axes>"
            ],
            "image/png": "[encoded data removed]"
          },
          "metadata": {}
        }
      ],
      "source": [
        "# Evaluate the model\n",
        "accuracy_RanF = accuracy_score(y_test, y_pred_RanF)\n",
        "precision_RanF = precision_score(y_test, y_pred_RanF)\n",
        "recall_RanF = recall_score(y_test, y_pred_RanF)\n",
        "f1_RanF = f1_score(y_test, y_pred_RanF)\n",
        "confusion_RanF = confusion_matrix(y_test, y_pred_RanF)\n",
        "report_RanF = classification_report(y_test, y_pred_RanF)\n",
        "\n",
        "plt.figure(figsize=(20,5))\n",
        "sns.heatmap(confusion_matrix(y_pred_RanF , y_test) , annot=True , cmap=\"YlGnBu\")\n",
        "print(\"Accuracy Score Is:\" , accuracy_RanF)\n",
        "print(\"Recall Score Is:\" , recall_RanF)\n",
        "print(\"F1 Score Is:\", f1_RanF)\n",
        "print(\"Precision Score Is:\" , precision_RanF)\n",
        "print(\"RandomForest Report Is:\\n\" , report_RanF)\n",
        "plt.show()"
      ]
    },
    {
      "cell_type": "code",
      "execution_count": null,
      "id": "dO0NAghotlE9",
      "metadata": {
        "id": "dO0NAghotlE9"
      },
      "outputs": [],
      "source": [
        "# storing model data\n",
        "accuracy_all.append(accuracy_RanF)\n",
        "recall_all.append(recall_RanF)\n",
        "f1_all.append(f1_RanF)\n",
        "precision_all.append(precision_RanF)"
      ]
    },
    {
      "cell_type": "markdown",
      "id": "T4DF2xI9pFT9",
      "metadata": {
        "id": "T4DF2xI9pFT9"
      },
      "source": [
        "* ## <u>GradientBoostingClassifier Model</u>"
      ]
    },
    {
      "cell_type": "code",
      "execution_count": null,
      "id": "c6HlNDfetnQa",
      "metadata": {
        "id": "c6HlNDfetnQa",
        "colab": {
          "base_uri": "https://localhost:8080/"
        },
        "outputId": "f91f5362-7a3b-44a8-e826-c134f0c00af6"
      },
      "outputs": [
        {
          "output_type": "execute_result",
          "data": {
            "text/plain": [
              "array([[0.99834029, 0.00165971],\n",
              "       [0.992918  , 0.007082  ],\n",
              "       [0.99312428, 0.00687572],\n",
              "       ...,\n",
              "       [0.00849115, 0.99150885],\n",
              "       [0.96415435, 0.03584565],\n",
              "       [0.998116  , 0.001884  ]])"
            ]
          },
          "metadata": {},
          "execution_count": 48
        }
      ],
      "source": [
        "# Train Model\n",
        "model_Grad = GradientBoostingClassifier(random_state=42)\n",
        "model_Grad.fit(x_train, y_train)\n",
        "model_Grad.score(x_train, y_train)\n",
        "y_pred_Grad = model_Grad.predict(x_test)\n",
        "model_Grad.predict_proba(x_test)"
      ]
    },
    {
      "cell_type": "code",
      "execution_count": null,
      "id": "-wD0sV45town",
      "metadata": {
        "id": "-wD0sV45town",
        "colab": {
          "base_uri": "https://localhost:8080/",
          "height": 688
        },
        "outputId": "494327a3-d894-4670-94b5-0295cc4eaa05"
      },
      "outputs": [
        {
          "output_type": "stream",
          "name": "stdout",
          "text": [
            "Accuracy Score Is: 0.9821143977637782\n",
            "Recall Score Is: 0.9943319093439895\n",
            "F1 Score Is: 0.9822971940619\n",
            "Precision Score Is: 0.9705503149786207\n",
            "GradientBoosting Report Is:\n",
            "               precision    recall  f1-score   support\n",
            "\n",
            "           0       0.99      0.97      0.98    120073\n",
            "           1       0.97      0.99      0.98    119617\n",
            "\n",
            "    accuracy                           0.98    239690\n",
            "   macro avg       0.98      0.98      0.98    239690\n",
            "weighted avg       0.98      0.98      0.98    239690\n",
            "\n"
          ]
        },
        {
          "output_type": "display_data",
          "data": {
            "text/plain": [
              "<Figure size 2000x500 with 2 Axes>"
            ],
            "image/png": "[encoded data removed]"
          },
          "metadata": {}
        }
      ],
      "source": [
        "# Evaluate the model\n",
        "accuracy_Grad = accuracy_score(y_test, y_pred_Grad)\n",
        "precision_Grad = precision_score(y_test, y_pred_Grad)\n",
        "recall_Grad = recall_score(y_test, y_pred_Grad)\n",
        "f1_Grad = f1_score(y_test, y_pred_Grad)\n",
        "confusion_Grad = confusion_matrix(y_test, y_pred_Grad)\n",
        "report_Grad = classification_report(y_test, y_pred_Grad)\n",
        "\n",
        "plt.figure(figsize=(20,5))\n",
        "sns.heatmap(confusion_matrix(y_pred_Grad , y_test) , annot=True , cmap=\"YlGnBu\")\n",
        "print(\"Accuracy Score Is:\" , accuracy_Grad)\n",
        "print(\"Recall Score Is:\" , recall_Grad)\n",
        "print(\"F1 Score Is:\", f1_Grad)\n",
        "print(\"Precision Score Is:\" , precision_Grad)\n",
        "print(\"GradientBoosting Report Is:\\n\" , report_Grad)\n",
        "plt.show()"
      ]
    },
    {
      "cell_type": "code",
      "execution_count": null,
      "id": "coKWMzqytqGg",
      "metadata": {
        "id": "coKWMzqytqGg"
      },
      "outputs": [],
      "source": [
        "# storing model data\n",
        "accuracy_all.append(accuracy_Grad)\n",
        "recall_all.append(recall_Grad)\n",
        "f1_all.append(f1_Grad)\n",
        "precision_all.append(precision_Grad)"
      ]
    },
    {
      "cell_type": "markdown",
      "id": "40ktFTfUpFJ5",
      "metadata": {
        "id": "40ktFTfUpFJ5"
      },
      "source": [
        "* ## <u>KNeighborsClassifier Model</u>"
      ]
    },
    {
      "cell_type": "code",
      "execution_count": null,
      "id": "xagUXuIJtsAC",
      "metadata": {
        "id": "xagUXuIJtsAC",
        "colab": {
          "base_uri": "https://localhost:8080/"
        },
        "outputId": "70f123d9-4437-4291-e394-a6c37a0a7fff"
      },
      "outputs": [
        {
          "output_type": "execute_result",
          "data": {
            "text/plain": [
              "array([[1., 0.],\n",
              "       [1., 0.],\n",
              "       [1., 0.],\n",
              "       ...,\n",
              "       [0., 1.],\n",
              "       [1., 0.],\n",
              "       [1., 0.]])"
            ]
          },
          "metadata": {},
          "execution_count": 51
        }
      ],
      "source": [
        "# Train Model\n",
        "model_KN = KNeighborsClassifier(n_neighbors=5)\n",
        "model_KN.fit(x_train, y_train)\n",
        "model_KN.score(x_train, y_train)\n",
        "y_pred_KN = model_KN.predict(x_test)\n",
        "model_KN.predict_proba(x_test)"
      ]
    },
    {
      "cell_type": "code",
      "execution_count": null,
      "id": "a6ind_qXttV8",
      "metadata": {
        "id": "a6ind_qXttV8",
        "colab": {
          "base_uri": "https://localhost:8080/",
          "height": 688
        },
        "outputId": "f20511a2-0c34-4030-c8dc-3c2a3581ec30"
      },
      "outputs": [
        {
          "output_type": "stream",
          "name": "stdout",
          "text": [
            "Accuracy Score Is: 0.9972756477116275\n",
            "Recall Score Is: 0.9999665599371327\n",
            "F1 Score Is: 0.9972777942212532\n",
            "Precision Score Is: 0.9946034491360529\n",
            "KNeighbors Report Is:\n",
            "               precision    recall  f1-score   support\n",
            "\n",
            "           0       1.00      0.99      1.00    120073\n",
            "           1       0.99      1.00      1.00    119617\n",
            "\n",
            "    accuracy                           1.00    239690\n",
            "   macro avg       1.00      1.00      1.00    239690\n",
            "weighted avg       1.00      1.00      1.00    239690\n",
            "\n"
          ]
        },
        {
          "output_type": "display_data",
          "data": {
            "text/plain": [
              "<Figure size 2000x500 with 2 Axes>"
            ],
            "image/png": "[encoded data removed]"
          },
          "metadata": {}
        }
      ],
      "source": [
        "# Evaluate the model\n",
        "accuracy_KN = accuracy_score(y_test, y_pred_KN)\n",
        "precision_KN = precision_score(y_test, y_pred_KN)\n",
        "recall_KN = recall_score(y_test, y_pred_KN)\n",
        "f1_KN = f1_score(y_test, y_pred_KN)\n",
        "confusion_KN = confusion_matrix(y_test, y_pred_KN)\n",
        "report_KN = classification_report(y_test, y_pred_KN)\n",
        "\n",
        "plt.figure(figsize=(20,5))\n",
        "sns.heatmap(confusion_matrix(y_pred_KN , y_test) , annot=True , cmap=\"YlGnBu\")\n",
        "print(\"Accuracy Score Is:\" , accuracy_KN)\n",
        "print(\"Recall Score Is:\" , recall_KN)\n",
        "print(\"F1 Score Is:\", f1_KN)\n",
        "print(\"Precision Score Is:\" , precision_KN)\n",
        "print(\"KNeighbors Report Is:\\n\" , report_KN)\n",
        "plt.show()"
      ]
    },
    {
      "cell_type": "code",
      "execution_count": null,
      "id": "4-CclFvQtuxn",
      "metadata": {
        "id": "4-CclFvQtuxn"
      },
      "outputs": [],
      "source": [
        "# storing model data\n",
        "accuracy_all.append(accuracy_KN)\n",
        "recall_all.append(recall_KN)\n",
        "f1_all.append(f1_KN)\n",
        "precision_all.append(precision_KN)"
      ]
    },
    {
      "cell_type": "markdown",
      "id": "ZDVGsQ3LpE_1",
      "metadata": {
        "id": "ZDVGsQ3LpE_1"
      },
      "source": [
        "* ## <u>Ploting Model data and Compare</u>"
      ]
    },
    {
      "cell_type": "code",
      "execution_count": null,
      "id": "ocaRuJCHtwk5",
      "metadata": {
        "id": "ocaRuJCHtwk5",
        "colab": {
          "base_uri": "https://localhost:8080/",
          "height": 206
        },
        "outputId": "773ec271-06fe-462a-935b-91352f4d1d04"
      },
      "outputs": [
        {
          "output_type": "execute_result",
          "data": {
            "text/plain": [
              "<pandas.io.formats.style.Styler at 0x7917bd7efa60>"
            ],
            "text/html": [
              "<style type=\"text/css\">\n",
              "#T_9c458_row0_col1, #T_9c458_row0_col2, #T_9c458_row0_col3, #T_9c458_row0_col4 {\n",
              "  background-color: #ffffd9;\n",
              "  color: #000000;\n",
              "}\n",
              "#T_9c458_row1_col1, #T_9c458_row1_col3, #T_9c458_row1_col4, #T_9c458_row2_col1, #T_9c458_row2_col2, #T_9c458_row2_col3, #T_9c458_row2_col4, #T_9c458_row4_col2 {\n",
              "  background-color: #081d58;\n",
              "  color: #f1f1f1;\n",
              "}\n",
              "#T_9c458_row1_col2 {\n",
              "  background-color: #091e5a;\n",
              "  color: #f1f1f1;\n",
              "}\n",
              "#T_9c458_row3_col1 {\n",
              "  background-color: #1e2e85;\n",
              "  color: #f1f1f1;\n",
              "}\n",
              "#T_9c458_row3_col2 {\n",
              "  background-color: #0d2163;\n",
              "  color: #f1f1f1;\n",
              "}\n",
              "#T_9c458_row3_col3 {\n",
              "  background-color: #1d2e83;\n",
              "  color: #f1f1f1;\n",
              "}\n",
              "#T_9c458_row3_col4 {\n",
              "  background-color: #24479d;\n",
              "  color: #f1f1f1;\n",
              "}\n",
              "#T_9c458_row4_col1, #T_9c458_row4_col3 {\n",
              "  background-color: #0a1e5c;\n",
              "  color: #f1f1f1;\n",
              "}\n",
              "#T_9c458_row4_col4 {\n",
              "  background-color: #0d2161;\n",
              "  color: #f1f1f1;\n",
              "}\n",
              "</style>\n",
              "<table id=\"T_9c458\" class=\"dataframe\">\n",
              "  <thead>\n",
              "    <tr>\n",
              "      <th class=\"blank level0\" >&nbsp;</th>\n",
              "      <th id=\"T_9c458_level0_col0\" class=\"col_heading level0 col0\" >Modele Name</th>\n",
              "      <th id=\"T_9c458_level0_col1\" class=\"col_heading level0 col1\" >accuracy </th>\n",
              "      <th id=\"T_9c458_level0_col2\" class=\"col_heading level0 col2\" >Recall </th>\n",
              "      <th id=\"T_9c458_level0_col3\" class=\"col_heading level0 col3\" >F1 </th>\n",
              "      <th id=\"T_9c458_level0_col4\" class=\"col_heading level0 col4\" >Precision </th>\n",
              "    </tr>\n",
              "  </thead>\n",
              "  <tbody>\n",
              "    <tr>\n",
              "      <th id=\"T_9c458_level0_row0\" class=\"row_heading level0 row0\" >0</th>\n",
              "      <td id=\"T_9c458_row0_col0\" class=\"data row0 col0\" >LogisticRegression</td>\n",
              "      <td id=\"T_9c458_row0_col1\" class=\"data row0 col1\" >0.822846</td>\n",
              "      <td id=\"T_9c458_row0_col2\" class=\"data row0 col2\" >0.786836</td>\n",
              "      <td id=\"T_9c458_row0_col3\" class=\"data row0 col3\" >0.815943</td>\n",
              "      <td id=\"T_9c458_row0_col4\" class=\"data row0 col4\" >0.847285</td>\n",
              "    </tr>\n",
              "    <tr>\n",
              "      <th id=\"T_9c458_level0_row1\" class=\"row_heading level0 row1\" >1</th>\n",
              "      <td id=\"T_9c458_row1_col0\" class=\"data row1 col0\" >DecisionTreeClassifier</td>\n",
              "      <td id=\"T_9c458_row1_col1\" class=\"data row1 col1\" >0.998269</td>\n",
              "      <td id=\"T_9c458_row1_col2\" class=\"data row1 col2\" >0.998905</td>\n",
              "      <td id=\"T_9c458_row1_col3\" class=\"data row1 col3\" >0.998266</td>\n",
              "      <td id=\"T_9c458_row1_col4\" class=\"data row1 col4\" >0.997629</td>\n",
              "    </tr>\n",
              "    <tr>\n",
              "      <th id=\"T_9c458_level0_row2\" class=\"row_heading level0 row2\" >2</th>\n",
              "      <td id=\"T_9c458_row2_col0\" class=\"data row2 col0\" >RandomForestClassifier</td>\n",
              "      <td id=\"T_9c458_row2_col1\" class=\"data row2 col1\" >0.998890</td>\n",
              "      <td id=\"T_9c458_row2_col2\" class=\"data row2 col2\" >0.999732</td>\n",
              "      <td id=\"T_9c458_row2_col3\" class=\"data row2 col3\" >0.998889</td>\n",
              "      <td id=\"T_9c458_row2_col4\" class=\"data row2 col4\" >0.998047</td>\n",
              "    </tr>\n",
              "    <tr>\n",
              "      <th id=\"T_9c458_level0_row3\" class=\"row_heading level0 row3\" >3</th>\n",
              "      <td id=\"T_9c458_row3_col0\" class=\"data row3 col0\" >GradientBoostingClassifier</td>\n",
              "      <td id=\"T_9c458_row3_col1\" class=\"data row3 col1\" >0.982114</td>\n",
              "      <td id=\"T_9c458_row3_col2\" class=\"data row3 col2\" >0.994332</td>\n",
              "      <td id=\"T_9c458_row3_col3\" class=\"data row3 col3\" >0.982297</td>\n",
              "      <td id=\"T_9c458_row3_col4\" class=\"data row3 col4\" >0.970550</td>\n",
              "    </tr>\n",
              "    <tr>\n",
              "      <th id=\"T_9c458_level0_row4\" class=\"row_heading level0 row4\" >4</th>\n",
              "      <td id=\"T_9c458_row4_col0\" class=\"data row4 col0\" >KNeighborsClassifier</td>\n",
              "      <td id=\"T_9c458_row4_col1\" class=\"data row4 col1\" >0.997276</td>\n",
              "      <td id=\"T_9c458_row4_col2\" class=\"data row4 col2\" >0.999967</td>\n",
              "      <td id=\"T_9c458_row4_col3\" class=\"data row4 col3\" >0.997278</td>\n",
              "      <td id=\"T_9c458_row4_col4\" class=\"data row4 col4\" >0.994603</td>\n",
              "    </tr>\n",
              "  </tbody>\n",
              "</table>\n"
            ]
          },
          "metadata": {},
          "execution_count": 54
        }
      ],
      "source": [
        "final_all = pd.DataFrame({\"Modele Name\": Model_Name_all, \"accuracy \": accuracy_all, \"Recall \": recall_all, \"F1 \": f1_all, \"Precision \": precision_all})\n",
        "\n",
        "final_all.style.background_gradient(cmap=\"YlGnBu\", axis=0)"
      ]
    },
    {
      "cell_type": "code",
      "execution_count": null,
      "id": "LA0MOs_rtxu_",
      "metadata": {
        "id": "LA0MOs_rtxu_",
        "colab": {
          "base_uri": "https://localhost:8080/",
          "height": 390
        },
        "outputId": "e369072c-6e3c-4171-8a95-1ddb2029e68e"
      },
      "outputs": [
        {
          "output_type": "display_data",
          "data": {
            "text/plain": [
              "<Figure size 2000x500 with 1 Axes>"
            ],
            "image/png": "[encoded data removed]"
          },
          "metadata": {}
        }
      ],
      "source": [
        "fig ,ax = plt.subplots(figsize=(20,5))\n",
        "\n",
        "plt.plot(final_all[\"Modele Name\"] , accuracy_all , label=\"accuracy\" )\n",
        "plt.plot(final_all[\"Modele Name\"] , recall_all , label=\"Recall\" )\n",
        "plt.plot(final_all[\"Modele Name\"] , f1_all , label=\"F1\" )\n",
        "plt.plot(final_all[\"Modele Name\"] , precision_all , label=\"Precision\" )\n",
        "\n",
        "plt.legend()\n",
        "plt.show()"
      ]
    },
    {
      "cell_type": "markdown",
      "id": "ZawTckLJpE0t",
      "metadata": {
        "id": "ZawTckLJpE0t"
      },
      "source": [
        "* ## <u>Saveing Model</u>"
      ]
    },
    {
      "cell_type": "code",
      "execution_count": null,
      "id": "5_bG3NaTtzDM",
      "metadata": {
        "id": "5_bG3NaTtzDM"
      },
      "outputs": [],
      "source": [
        "import pickle\n",
        "\n",
        "filename = \"Fraud_RandomForest.sav\"\n",
        "pickle.dump(model_RanF , open(filename,\"wb\"))"
      ]
    },
    {
      "cell_type": "code",
      "execution_count": null,
      "id": "27T6ktjPt0gh",
      "metadata": {
        "id": "27T6ktjPt0gh"
      },
      "outputs": [],
      "source": [
        "pickle.dump(scaler,open('scaler.sav','wb'))"
      ]
    }
  ],
  "metadata": {
    "colab": {
      "collapsed_sections": [
        "2C27ywkylrWe",
        "5yJw_5B_pHfz",
        "fPh9KBEFrFNw",
        "Pu_Zf8vDpHRN",
        "9SzejyAupHDt",
        "oKTe44sgpG2E",
        "ht95xcmApGnk",
        "Ozo8v1xApGZz",
        "TxcAftQbpGHw",
        "LRjOruErpF4F",
        "H2pHtmgQpFpr",
        "-DQ8qq52pFeL",
        "T4DF2xI9pFT9",
        "40ktFTfUpFJ5",
        "ZDVGsQ3LpE_1",
        "ZawTckLJpE0t"
      ],
      "provenance": [],
      "include_colab_link": true
    },
    "kernelspec": {
      "display_name": "Python 3",
      "name": "python3"
    },
    "language_info": {
      "codemirror_mode": {
        "name": "ipython",
        "version": 3
      },
      "file_extension": ".py",
      "mimetype": "text/x-python",
      "name": "python",
      "nbconvert_exporter": "python",
      "pygments_lexer": "ipython3",
      "version": "3.12.4"
    }
  },
  "nbformat": 4,
  "nbformat_minor": 5
}